{
 "cells": [
  {
   "cell_type": "markdown",
   "metadata": {},
   "source": [
    "# 2.3 Image Augmentation Tutorial\n",
    "By Zac Todd"
   ]
  },
  {
   "cell_type": "code",
   "execution_count": null,
   "metadata": {},
   "outputs": [],
   "source": [
    "import os\n",
    "import cv2\n",
    "import numpy as np\n",
    "import matplotlib.pyplot as plt\n",
    "\n",
    "IMAGES_DIR = f\"{os.getcwd()}/resources\""
   ]
  },
  {
   "cell_type": "markdown",
   "metadata": {},
   "source": [
    "Loading base image"
   ]
  },
  {
   "cell_type": "code",
   "execution_count": null,
   "metadata": {},
   "outputs": [],
   "source": [
    "image = plt.imread(f\"{IMAGES_DIR}/cat_on_dog.jpg\")\n",
    "plt.imshow(image)\n",
    "plt.show()"
   ]
  },
  {
   "cell_type": "markdown",
   "metadata": {},
   "source": [
    "### Flipping"
   ]
  },
  {
   "cell_type": "code",
   "execution_count": null,
   "metadata": {},
   "outputs": [],
   "source": [
    "# Vectical Flipping\n",
    "vflip_image = cv2.flip(image, 1)\n",
    "plt.imshow(vflip_image)\n",
    "plt.title(\"Vectical Flip\")\n",
    "plt.show()\n",
    "\n",
    "\n",
    "# Horizonal Flipping\n",
    "hflip_image = cv2.flip(image, 0)\n",
    "plt.imshow(hflip_image)\n",
    "plt.title(\"Horizonal Flip\")\n",
    "plt.show()\n",
    "\n",
    "\n",
    "# Both\n",
    "hvflip_image = cv2.flip(image, -1)\n",
    "plt.imshow(hvflip_image)\n",
    "plt.title(\"Horizonal and Vetical Flip\")\n",
    "plt.show()"
   ]
  },
  {
   "cell_type": "markdown",
   "metadata": {},
   "source": [
    "### Translation"
   ]
  },
  {
   "cell_type": "code",
   "execution_count": null,
   "metadata": {},
   "outputs": [],
   "source": [
    "h, w, *_ = image.shape\n",
    "\n",
    "t_matrix = np.float32([[1, 0, 70], [0, 1, 110]])\n",
    "t_image = cv2.warpAffine(image, t_matrix, (w, h))\n",
    "\n",
    "plt.imshow(t_image)\n",
    "plt.title(\"Translation\")\n",
    "plt.show()"
   ]
  },
  {
   "cell_type": "markdown",
   "metadata": {},
   "source": [
    "### Rotation"
   ]
  },
  {
   "cell_type": "code",
   "execution_count": null,
   "metadata": {},
   "outputs": [],
   "source": [
    "# Some roations have flags like 90, 180 and 120 degrees.\n",
    "r90_image = cv2.rotate(image, cv2.ROTATE_90_CLOCKWISE)\n",
    "plt.imshow(r90_image)\n",
    "plt.title(\"90 Degree Rotation\")\n",
    "plt.show()\n",
    "\n",
    "\n",
    "# Outerwise you have to select the where in the image you are rotating and the angle\n",
    "def rotate(image, angle):\n",
    "    rimage = image.copy()\n",
    "    h, w, *_ = rimage.shape\n",
    "    c = ((h - 1) / 2, (w - 1) / 2)\n",
    "    m = cv2.getRotationMatrix2D(c, angle, 1)\n",
    "    rimage = cv2.warpAffine(image, m, (w, h))\n",
    "    return rimage\n",
    "\n",
    "# Rotate by 35 degrees\n",
    "r35_image = rotate(image, 35)\n",
    "plt.imshow(r35_image)\n",
    "plt.title(\"35 Degree Rotation\")\n",
    "plt.show()"
   ]
  },
  {
   "cell_type": "markdown",
   "metadata": {},
   "source": [
    "### Random Rotations"
   ]
  },
  {
   "cell_type": "code",
   "execution_count": null,
   "metadata": {},
   "outputs": [],
   "source": [
    "min_rotation = -20\n",
    "max_rotation = 20\n",
    "\n",
    "sample = 5\n",
    "\n",
    "# Select from a value from a distibustion in this case unifrom from -20 to 20 degrees\n",
    "for _ in range(sample):\n",
    "    angle = np.random.uniform(min_rotation, max_rotation)\n",
    "    rr_image = rotate(image, angle)\n",
    "    plt.imshow(rr_image)\n",
    "    plt.title(f\"{angle:.2f} Degree Rotation\")\n",
    "    plt.show()\n"
   ]
  },
  {
   "cell_type": "markdown",
   "metadata": {},
   "source": [
    "### Croping"
   ]
  },
  {
   "cell_type": "code",
   "execution_count": null,
   "metadata": {},
   "outputs": [],
   "source": [
    "min_y = 200\n",
    "max_y = 1000\n",
    "min_x = 1300\n",
    "max_x = 1800\n",
    "\n",
    "cropped_image = image[min_y:max_y, min_x:max_x]\n",
    "plt.imshow(cropped_image)\n",
    "plt.title(\"Cropped Image\")\n",
    "plt.show()"
   ]
  },
  {
   "cell_type": "markdown",
   "metadata": {},
   "source": [
    "Crop the image to focus on the dog."
   ]
  },
  {
   "cell_type": "code",
   "execution_count": null,
   "metadata": {},
   "outputs": [],
   "source": [
    "min_y = ...\n",
    "max_y = ...\n",
    "min_x = ...\n",
    "max_x = ...\n",
    "\n",
    "cropped_image = image[min_y:max_y, min_x:max_x]\n",
    "plt.imshow(cropped_image)\n",
    "plt.title(\"Cropped Image\")\n",
    "plt.show()"
   ]
  },
  {
   "cell_type": "markdown",
   "metadata": {},
   "source": [
    "### Random Croping\n",
    "Set up random cropping in s imlar way to how random rotation is etup."
   ]
  },
  {
   "cell_type": "code",
   "execution_count": null,
   "metadata": {},
   "outputs": [],
   "source": [
    "def random_crop(image, ...):\n",
    "    ...\n",
    "    crop_image = ...\n",
    "    return crop_image\n",
    "\n",
    "for _ in sample:\n",
    "    crop_image = random_crop(image, ...)\n",
    "    plt.imshow(crop_image)\n",
    "    plt.title(\"\")\n",
    "    plt.show()"
   ]
  },
  {
   "cell_type": "markdown",
   "metadata": {},
   "source": [
    "### Erasing"
   ]
  },
  {
   "cell_type": "code",
   "execution_count": null,
   "metadata": {},
   "outputs": [],
   "source": [
    "# Erasing part of the image\n",
    "min_y = 200\n",
    "max_y = 1000\n",
    "min_x = 1300\n",
    "max_x = 1800\n",
    "\n",
    "erase_image = image.copy()\n",
    "erase_image[min_y:max_y, min_x:max_x] = (255, 255, 255)\n",
    "\n",
    "plt.imshow(erase_image)\n",
    "plt.title(\"Erase Image\")\n",
    "plt.show()\n",
    "\n",
    "\n",
    "# Erasing part of the image and add noise\n",
    "noise_erase_image = image.copy()\n",
    "noisy = np.random.randint(0, 255, (max_y - min_y, max_x - min_x, 3))\n",
    "noise_erase_image[min_y:max_y, min_x:max_x] = noisy\n",
    "\n",
    "plt.imshow(noise_erase_image)\n",
    "plt.title(\"Erase with Noise Image\")\n",
    "plt.show()\n",
    "\n",
    "\n",
    "# Bluring part of the image\n",
    "blur_replaced_image = image.copy()\n",
    "kernal = (201, 201)\n",
    "blur =  cv2.GaussianBlur(image, kernal, 0)\n",
    "noise_erase_image[min_y:max_y, min_x:max_x] = blur[min_y:max_y, min_x:max_x]\n",
    "plt.imshow(noise_erase_image)\n",
    "plt.title(\"Blur part of Image\")\n",
    "plt.show()"
   ]
  },
  {
   "cell_type": "markdown",
   "metadata": {},
   "source": [
    "### Random Erasing\n",
    "Setup random Erasing Simlarly to how you setup radnom croping."
   ]
  },
  {
   "cell_type": "code",
   "execution_count": null,
   "metadata": {},
   "outputs": [],
   "source": [
    "def random_erasing(image, ...):\n",
    "    ...\n",
    "    erase_image = ...\n",
    "    return erase_image\n",
    "\n",
    "for _ in sample:\n",
    "    erase_image = random_erasing(image, ...)\n",
    "    plt.imshow(erase_image)\n",
    "    plt.title(\"\")\n",
    "    plt.show()"
   ]
  },
  {
   "cell_type": "markdown",
   "metadata": {},
   "source": [
    "### Noise Injection"
   ]
  },
  {
   "cell_type": "code",
   "execution_count": null,
   "metadata": {},
   "outputs": [],
   "source": [
    "# Gaussian Noise\n",
    "mean = 0\n",
    "var = 0.1\n",
    "sigma = var ** 0.5\n",
    "gauss = np.random.normal(mean,sigma, image.shape)\n",
    "noisy = (image + gauss) / 255\n",
    "\n",
    "plt.hist(gauss.flatten())\n",
    "plt.title(\"Gaussian Noise DIstribtuion\")\n",
    "plt.show()\n",
    "\n",
    "plt.imshow(noisy)\n",
    "plt.title(\"Image with Gaussian Noise\")\n",
    "plt.show()\n",
    "\n",
    "plt.hist((image - noisy).flatten(), bins=30)\n",
    "plt.title(\"Noisy Image Difference \")\n",
    "plt.show()\n",
    "\n",
    "plt.imshow(image - noisy)\n",
    "plt.title(\"Difference Image\")\n",
    "plt.show()"
   ]
  },
  {
   "cell_type": "markdown",
   "metadata": {},
   "source": [
    "Search and implement speckle noise and plot the new image and the noise."
   ]
  },
  {
   "cell_type": "code",
   "execution_count": null,
   "metadata": {},
   "outputs": [],
   "source": []
  },
  {
   "cell_type": "markdown",
   "metadata": {},
   "source": [
    "Search an implement salt and pepper noise and plot the new image and the noise."
   ]
  },
  {
   "cell_type": "code",
   "execution_count": null,
   "metadata": {},
   "outputs": [],
   "source": []
  },
  {
   "cell_type": "markdown",
   "metadata": {},
   "source": [
    "### Colour Shifting"
   ]
  },
  {
   "cell_type": "code",
   "execution_count": null,
   "metadata": {},
   "outputs": [],
   "source": [
    "# Reversing the colors:\n",
    "hsv = cv2.cvtColor(image, cv2.COLOR_RGB2HSV)\n",
    "h, s, v = cv2.split(hsv)\n",
    "rev_h = 180 - h\n",
    "rev_hsv = cv2.merge([rev_h, s, v])\n",
    "rev_image = cv2.cvtColor(rev_hsv, cv2.COLOR_HSV2RGB)\n",
    "plt.imshow(rev_image)\n",
    "plt.title(\"Revsed Image\")\n",
    "plt.show()\n",
    "\n",
    "# Shifting the colors:\n",
    "hsv = cv2.cvtColor(image, cv2.COLOR_RGB2HSV)\n",
    "h, s, v = cv2.split(hsv)\n",
    "shift_h = (h + 90) % 180\n",
    "shift_hsv = cv2.merge([shift_h, s, v])\n",
    "shift_image = cv2.cvtColor(shift_hsv, cv2.COLOR_HSV2RGB)\n",
    "plt.imshow(shift_image)\n",
    "plt.title(\"Shifted Image\")\n",
    "plt.show()"
   ]
  }
 ],
 "metadata": {
  "kernelspec": {
   "display_name": "Python 3",
   "language": "python",
   "name": "python3"
  },
  "language_info": {
   "codemirror_mode": {
    "name": "ipython",
    "version": 3
   },
   "file_extension": ".py",
   "mimetype": "text/x-python",
   "name": "python",
   "nbconvert_exporter": "python",
   "pygments_lexer": "ipython3",
   "version": "3.7.6"
  }
 },
 "nbformat": 4,
 "nbformat_minor": 4
}
