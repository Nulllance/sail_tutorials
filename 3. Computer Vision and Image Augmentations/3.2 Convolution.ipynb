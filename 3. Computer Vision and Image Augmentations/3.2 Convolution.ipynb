{
 "cells": [
  {
   "cell_type": "markdown",
   "metadata": {},
   "source": [
    "# 3.2 Convolution Tutorial\n",
    "This tutorial brifly visulaises the convoutional opertor.\n",
    "By Zac Todd"
   ]
  },
  {
   "cell_type": "code",
   "execution_count": null,
   "metadata": {},
   "outputs": [],
   "source": [
    "import os\n",
    "import cv2\n",
    "import skimage.io\n",
    "import numpy as np\n",
    "import matplotlib.pyplot as plt\n",
    "\n",
    "\n",
    "IMAGES_DIR = f\"{os.getcwd()}/resources\""
   ]
  },
  {
   "cell_type": "markdown",
   "metadata": {},
   "source": [
    "Loading in the base image. skimage.io can also be used to load images and loads them as np.ndarray in RGB format."
   ]
  },
  {
   "cell_type": "code",
   "execution_count": null,
   "metadata": {},
   "outputs": [],
   "source": [
    "image = skimage.io.imread(f\"{IMAGES_DIR}/color.jpg\")\n",
    "plt.imshow(image)\n",
    "plt.show()"
   ]
  },
  {
   "cell_type": "markdown",
   "metadata": {},
   "source": [
    "Examples of one dimension convolution:"
   ]
  },
  {
   "cell_type": "code",
   "execution_count": null,
   "metadata": {},
   "outputs": [],
   "source": [
    "print(np.convolve([1, 2, 3, 4, 5], [1]))\n",
    "print(np.convolve([1, 2, 3, 4, 5], [0, 1, 0.5]))"
   ]
  },
  {
   "cell_type": "markdown",
   "metadata": {},
   "source": [
    "For two dimension convolution the function cv2.filter2D(...) can be used to convolve a kernel with an image.\n",
    "For example:\n",
    "```python\n",
    "result = cv2.filter2D(image, -1, kernel)\n",
    "```\n",
    "\n",
    "Examples of two dimension convolution:"
   ]
  },
  {
   "cell_type": "code",
   "execution_count": null,
   "metadata": {},
   "outputs": [],
   "source": [
    "sharpen = np.array(\n",
    "    [\n",
    "        [0, -1, 0],\n",
    "        [-1, 5, -1],\n",
    "        [0, -1, 0]\n",
    "    ]\n",
    ")\n",
    "plt.imshow(cv2.filter2D(image, -1, sharpen))\n",
    "plt.show()"
   ]
  },
  {
   "cell_type": "code",
   "execution_count": null,
   "metadata": {},
   "outputs": [],
   "source": [
    "laplacian = np.array(\n",
    "    [\n",
    "        [0, 1, 0],\n",
    "        [1, -4, 1],\n",
    "        [0, 1, 0]\n",
    "    ]\n",
    ")\n",
    "plt.imshow(cv2.filter2D(image, -1, laplacian))\n",
    "plt.show()"
   ]
  },
  {
   "cell_type": "code",
   "execution_count": null,
   "metadata": {},
   "outputs": [],
   "source": [
    "left_sobel = np.array(\n",
    "    [\n",
    "        [1, 0, -1],\n",
    "        [2, 0, -2],\n",
    "        [1, 0, -1]\n",
    "    ]\n",
    ")\n",
    "plt.imshow(cv2.filter2D(image, -1, left_sobel))\n",
    "plt.show()"
   ]
  },
  {
   "cell_type": "markdown",
   "metadata": {},
   "source": [
    "Given that you have the left sobel try creating the right, top and either of the diagonal sobels."
   ]
  },
  {
   "cell_type": "code",
   "execution_count": null,
   "metadata": {},
   "outputs": [],
   "source": [
    "right_sobel = ...\n",
    "plt.imshow(cv2.filter2D(...))\n",
    "plt.show()"
   ]
  },
  {
   "cell_type": "code",
   "execution_count": null,
   "metadata": {},
   "outputs": [],
   "source": [
    "top_sobel = ...\n",
    "plt.imshow(cv2.filter2D(...))\n",
    "plt.show()"
   ]
  },
  {
   "cell_type": "code",
   "execution_count": null,
   "metadata": {},
   "outputs": [],
   "source": [
    "diagonal_sobel = ...\n",
    "plt.imshow(cv2.filter2D(...))\n",
    "plt.show()"
   ]
  }
 ],
 "metadata": {
  "kernelspec": {
   "display_name": "Python 3",
   "language": "python",
   "name": "python3"
  },
  "language_info": {
   "codemirror_mode": {
    "name": "ipython",
    "version": 3
   },
   "file_extension": ".py",
   "mimetype": "text/x-python",
   "name": "python",
   "nbconvert_exporter": "python",
   "pygments_lexer": "ipython3",
   "version": "3.8.5"
  }
 },
 "nbformat": 4,
 "nbformat_minor": 4
}
