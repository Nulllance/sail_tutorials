{
 "cells": [
  {
   "cell_type": "markdown",
   "metadata": {},
   "source": [
    "# 3.3.2 Image Augmentation: Cutout, MixUp and CutMix\n",
    "By Zac Todd\n",
    "\n",
    "This tutorials covers the image augmenations included in the DeVries and Taylors work [Cutout](https://arxiv.org/abs/1708.04552), Zhang et al work [MixUp](https://arxiv.org/abs/1710.09412) and Yun et al work [CutMix](https://arxiv.org/abs/1905.04899). "
   ]
  },
  {
   "cell_type": "code",
   "execution_count": null,
   "metadata": {},
   "outputs": [],
   "source": [
    "import os\n",
    "import numpy as np\n",
    "import cv2\n",
    "from PIL import Image, ImageOps, ImageEnhance\n",
    "\n",
    "IMAGES_DIR = f'{os.getcwd()}/resources'\n",
    "IMAGE_1 = f'{IMAGES_DIR}/dog.jpg'\n",
    "IMAGE_2 = f'{IMAGES_DIR}/cat.jpg'\n",
    "IMAGE_3 = f'{IMAGES_DIR}/cat_on_dog.jpg'"
   ]
  },
  {
   "cell_type": "markdown",
   "metadata": {},
   "source": [
    "Wrapper for enabling functions that take np.ndarray to take PIL.Image as input."
   ]
  },
  {
   "cell_type": "code",
   "execution_count": null,
   "metadata": {},
   "outputs": [],
   "source": [
    "def _PIL_NUMPY(func):\n",
    "    def wrapper(*args, **kwargs):\n",
    "        new_args = [np.asarray(arg) if isinstance(arg, type(Image.Image())) else arg for arg in args]\n",
    "        new_kwargs = {k: (np.asarray(arg) if isinstance(arg, type(Image.Image())) else arg) for k, arg in kwargs.items()}\n",
    "        out_array = func(*new_args, **new_kwargs)\n",
    "        out_image = Image.fromarray(np.uint8(out_array))\n",
    "        return out_image\n",
    "    return wrapper"
   ]
  },
  {
   "cell_type": "markdown",
   "metadata": {},
   "source": [
    "## Cutout\n",
    "Cutoout removes random propostion of images "
   ]
  },
  {
   "cell_type": "code",
   "execution_count": null,
   "metadata": {},
   "outputs": [],
   "source": [
    "@_PIL_NUMPY\n",
    "def cutout(image, holes, length):\n",
    "    output = image.copy()\n",
    "    h, w, _ = output.shape\n",
    "    for _ in range(holes):\n",
    "        x0, y0 = np.random.randint(w - length), np.random.randint(h - length)\n",
    "        output[y0: y0 + length, x0:x0 + length] = 0\n",
    "    return output\n",
    "    \n",
    "img = Image.open(IMAGE_1)\n",
    "cutout_image = cutout(img, 10, 500)\n",
    "cutout_image"
   ]
  },
  {
   "cell_type": "markdown",
   "metadata": {},
   "source": [
    "Now instead of cuting out with black space try cuting out the image with unifrom noise. \n",
    "Hint look at *np.random.randint*."
   ]
  },
  {
   "cell_type": "code",
   "execution_count": null,
   "metadata": {},
   "outputs": [],
   "source": [
    "def noisy_cutout(image, holes, length):\n",
    "    output = image.copy()\n",
    "    h, w, _ = output.shape\n",
    "    for _ in range(holes):\n",
    "        x0, y0 = np.random.randint(w - length), np.random.randint(h - length)\n",
    "        output[y0:y0 + length, x0:x0 + length] = ...\n",
    "    return output\n",
    "    \n",
    "img = Image.open(IMAGE_2)\n",
    "img = np.asarray(img)\n",
    "noisy_cutout_image = noisy_cutout(img, 10, 500)\n",
    "noisy_cutout_image"
   ]
  },
  {
   "cell_type": "markdown",
   "metadata": {},
   "source": [
    "## Mixup\n",
    "Mix up in pratise works on both the images and onehot encoding. However, for the purposes of this tutorial we will only be looking at the mixup process for the images though the same process is appied to the lables.\n",
    "Mixup works by sampling from Beta(alpha, alpha) and using sampled probabilty to determine the weights of the sum of the images and their labels being mixed up.\n",
    "\n",
    "Run the cell below a few times and change the play around with the alpha value."
   ]
  },
  {
   "cell_type": "code",
   "execution_count": null,
   "metadata": {},
   "outputs": [],
   "source": [
    "@_PIL_NUMPY\n",
    "def mixup(image1, image2, alpha):\n",
    "    lam = np.random.beta(alpha, alpha) if alpha > 0 else 1\n",
    "    output = lam * image1 + (1 - lam) * image2\n",
    "    return output\n",
    "\n",
    "img1 = Image.open(IMAGE_1)\n",
    "img2 = Image.open(IMAGE_2)\n",
    "img = np.asarray(img)\n",
    "mixup_image = mixup(img1, img2, 0.5)\n",
    "mixup_image"
   ]
  },
  {
   "cell_type": "markdown",
   "metadata": {},
   "source": [
    "In the mixup function you will see that it only works on image of the same size rewrite the function so it works on images of different sizes."
   ]
  },
  {
   "cell_type": "code",
   "execution_count": null,
   "metadata": {},
   "outputs": [],
   "source": [
    "@_PIL_NUMPY\n",
    "def resized_mixup(image1, image2, alpha):\n",
    "    resized_image1 = ...\n",
    "    resized_image2 = ...\n",
    "    lam = np.random.beta(alpha, alpha) if alpha > 0 else 1\n",
    "    output = lam * resized_image1 + (1 - lam) * resized_image2\n",
    "    return output\n",
    "\n",
    "img1 = Image.open(IMAGE_1)\n",
    "img3 = Image.open(IMAGE_3)\n",
    "img = np.asarray(img)\n",
    "resized_mixup = mixup(img1, img3, 0.5)\n",
    "resized_mixup"
   ]
  },
  {
   "cell_type": "markdown",
   "metadata": {},
   "source": [
    "## CutMix\n",
    "CutMix is like Cutout as it remove a section from and image is like Mixup as it uses two images to make new smaple with lables. "
   ]
  },
  {
   "cell_type": "code",
   "execution_count": null,
   "metadata": {},
   "outputs": [],
   "source": [
    "@_PIL_NUMPY\n",
    "def cutmix(image1, image2):\n",
    "    resized_image1 = ...\n",
    "    resized_image2 = ...\n",
    "\n",
    "    h, w, _ = image1.shape\n",
    "    \n",
    "    lam = np.random.uniform()\n",
    "    width_factor = np.sqrt(1 - lam)\n",
    "    xl, yl = w * width_factor, h * width_factor\n",
    "    x0, y0 = np.random.randint(w - xl),  np.random.randint(h - yl)\n",
    "    \n",
    "    output = ...\n",
    "    output[...] = ...\n",
    "    return output\n",
    "\n",
    "img1 = Image.open(IMAGE_1)\n",
    "img2 = Image.open(IMAGE_2)\n",
    "cutmix_img = cutmix(img1, img2)\n",
    "cutmix_img"
   ]
  },
  {
   "cell_type": "markdown",
   "metadata": {},
   "source": [
    "Make sure that your implmentation works for image of different sizes."
   ]
  },
  {
   "cell_type": "code",
   "execution_count": null,
   "metadata": {},
   "outputs": [],
   "source": [
    "img1 = Image.open(IMAGE_1)\n",
    "img3 = Image.open(IMAGE_3)\n",
    "cutout_img = mixup(img1, img3)\n",
    "cutout_img"
   ]
  }
 ],
 "metadata": {
  "kernelspec": {
   "display_name": "Python 3",
   "language": "python",
   "name": "python3"
  },
  "language_info": {
   "codemirror_mode": {
    "name": "ipython",
    "version": 3
   },
   "file_extension": ".py",
   "mimetype": "text/x-python",
   "name": "python",
   "nbconvert_exporter": "python",
   "pygments_lexer": "ipython3",
   "version": "3.8.5"
  }
 },
 "nbformat": 4,
 "nbformat_minor": 4
}
