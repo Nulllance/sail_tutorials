{
 "cells": [
  {
   "cell_type": "markdown",
   "metadata": {},
   "source": [
    "# 3.3.2 Image Augmentation: Cutout, MixUp and CutMix\n",
    "By Zac Todd\n",
    "\n",
    "This tutorials covers the image augmenations included in the DeVries and Taylors work [Cutout](https://arxiv.org/abs/1708.04552), Zhang et al work [MixUp](https://arxiv.org/abs/1710.09412) and Yun et al work [CutMix](https://arxiv.org/abs/1905.04899). "
   ]
  },
  {
   "cell_type": "code",
   "execution_count": null,
   "metadata": {},
   "outputs": [],
   "source": [
    "import os\n",
    "import numpy as np\n",
    "import cv2\n",
    "from PIL import Image, ImageOps, ImageEnhance\n",
    "\n",
    "IMAGES_DIR = f'{os.getcwd()}/resources'\n",
    "IMAGE_1 = f'{IMAGES_DIR}/dog.jpg'\n",
    "IMAGE_2 = f'{IMAGES_DIR}/cat.jpg'\n",
    "IMAGE_3 = f'{IMAGES_DIR}/cat_on_dog.jpg'"
   ]
  },
  {
   "cell_type": "markdown",
   "metadata": {},
   "source": [
    "Wrapper for enabling functions that take np.ndarray to take PIL.Image as input and then after running converts the output np.ndarray to PIL.Image dont worry to much about what this function is doing."
   ]
  },
  {
   "cell_type": "code",
   "execution_count": null,
   "metadata": {},
   "outputs": [],
   "source": [
    "def _PIL_NUMPY(func):\n",
    "    def wrapper(*args, **kwargs):\n",
    "        new_args = [np.asarray(arg) if isinstance(arg, type(Image.Image())) else arg for arg in args]\n",
    "        new_kwargs = {k: (np.asarray(arg) if isinstance(arg, type(Image.Image())) else arg) for k, arg in kwargs.items()}\n",
    "        out_array = func(*new_args, **new_kwargs)\n",
    "        out_image = Image.fromarray(np.uint8(out_array))\n",
    "        return out_image\n",
    "    return wrapper"
   ]
  },
  {
   "cell_type": "markdown",
   "metadata": {},
   "source": [
    "## Cutout\n",
    "Cutout removes a selected number of square holes from and image."
   ]
  },
  {
   "cell_type": "code",
   "execution_count": null,
   "metadata": {},
   "outputs": [],
   "source": [
    "@_PIL_NUMPY\n",
    "def cutout(image, holes, length):\n",
    "    output = image.copy()\n",
    "    h, w, _ = output.shape\n",
    "    for _ in range(holes):\n",
    "        x0, y0 = np.random.randint(w - length), np.random.randint(h - length)\n",
    "        output[y0: y0 + length, x0:x0 + length] = 0\n",
    "    return output\n",
    "    \n",
    "img = Image.open(IMAGE_1)\n",
    "cutout_image = cutout(img, 10, 500)\n",
    "cutout_image"
   ]
  },
  {
   "cell_type": "markdown",
   "metadata": {},
   "source": [
    "Now instead of cuting out with black space try cuting out the image with unifrom noise. \n",
    "Hint look at *np.random.randint*."
   ]
  },
  {
   "cell_type": "code",
   "execution_count": null,
   "metadata": {},
   "outputs": [],
   "source": [
    "@_PIL_NUMPY\n",
    "def noisy_cutout(image, holes, length):\n",
    "    output = image.copy()\n",
    "    h, w, _ = output.shape\n",
    "    for _ in range(holes):\n",
    "        x0, y0 = np.random.randint(w - length), np.random.randint(h - length)\n",
    "        output[y0:y0 + length, x0:x0 + length] = ...\n",
    "    return output\n",
    "    \n",
    "img = Image.open(IMAGE_2)\n",
    "noisy_cutout_image = noisy_cutout(img, 10, 500)\n",
    "noisy_cutout_image"
   ]
  },
  {
   "cell_type": "markdown",
   "metadata": {},
   "source": [
    "<script type=\"text/x-mathjax-config\">\n",
    "MathJax.Hub.Config({\n",
    "tex2jax: {\n",
    "inlineMath: [['$','$'], ['\\\\(','\\\\)']],\n",
    "processEscapes: true},\n",
    "jax: [\"input/TeX\",\"input/MathML\",\"input/AsciiMath\",\"output/CommonHTML\"],\n",
    "extensions: [\"tex2jax.js\",\"mml2jax.js\",\"asciimath2jax.js\",\"MathMenu.js\",\"MathZoom.js\",\"AssistiveMML.js\", \"[Contrib]/a11y/accessibility-menu.js\"],\n",
    "TeX: {\n",
    "extensions: [\"AMSmath.js\",\"AMSsymbols.js\",\"noErrors.js\",\"noUndefined.js\"],\n",
    "equationNumbers: {\n",
    "autoNumber: \"AMS\"\n",
    "}\n",
    "}\n",
    "});\n",
    "</script>\n",
    "The Cutout function from the DeVries and Taylors samples boxes a bit differently than in our *cutout(.)* function. Rewrite the function so the we can sample $x_0$ and $y_0$ from just the bounds of the image."
   ]
  },
  {
   "cell_type": "code",
   "execution_count": null,
   "metadata": {},
   "outputs": [],
   "source": [
    "@_PIL_NUMPY\n",
    "def cutout2(image, holes, length):\n",
    "    output = image.copy()\n",
    "    h, w, _ = output.shape\n",
    "    for _ in range(holes):\n",
    "        x0, y0 = np.random.randint(w), np.random.randint(h)\n",
    "        x1, y1 = ...\n",
    "        output[y0: x1, x0: y1] = 0\n",
    "    return output\n",
    "\n",
    "img = Image.open(IMAGE_2)\n",
    "cutout2_image = cutout2(img, 10, 500)\n",
    "cutout2_image"
   ]
  },
  {
   "cell_type": "markdown",
   "metadata": {},
   "source": [
    "## Mixup\n",
    "\n",
    "<script type=\"text/x-mathjax-config\">\n",
    "MathJax.Hub.Config({\n",
    "tex2jax: {\n",
    "inlineMath: [['$','$'], ['\\\\(','\\\\)']],\n",
    "processEscapes: true},\n",
    "jax: [\"input/TeX\",\"input/MathML\",\"input/AsciiMath\",\"output/CommonHTML\"],\n",
    "extensions: [\"tex2jax.js\",\"mml2jax.js\",\"asciimath2jax.js\",\"MathMenu.js\",\"MathZoom.js\",\"AssistiveMML.js\", \"[Contrib]/a11y/accessibility-menu.js\"],\n",
    "TeX: {\n",
    "extensions: [\"AMSmath.js\",\"AMSsymbols.js\",\"noErrors.js\",\"noUndefined.js\"],\n",
    "equationNumbers: {\n",
    "autoNumber: \"AMS\"\n",
    "}\n",
    "}\n",
    "});\n",
    "</script>\n",
    "\n",
    "Mixup in practise works on both the images and onehot encoding labels. However, for the purposes of this tutorial we only look at the mixup process for the images though the same process is appied to the lables.\n",
    "Mixup works by sampling from $\\lambda \\sim Beta(\\alpha, \\alpha)$ and using sampled probabilty to determine the weights of the sum of the two images and their labels being mixed up.\n",
    "\n",
    "$$ \\begin{align}  \n",
    "\\lambda &\\sim Beta(\\alpha, \\alpha)\\\\\n",
    "\\tilde{X} &= \\lambda X_i + (1 - \\lambda) X_j\\\\\n",
    "\\tilde{Y} &= \\lambda Y_i + (1 - \\lambda) Y_j\\\\\n",
    "\\end{align} $$\n",
    "\n",
    "Where $\\tilde{X}$ and $\\tilde{Y}$ are the mixed up images and labels repectively from the images $X_i$ and $X_j$ with the assoated lables $Y_i$ and $X_j$.\n",
    "\n",
    "Run the cell below a few times and change the play around with the *alpha* input."
   ]
  },
  {
   "cell_type": "code",
   "execution_count": null,
   "metadata": {},
   "outputs": [],
   "source": [
    "@_PIL_NUMPY\n",
    "def mixup(image1, image2, alpha):\n",
    "    lam = np.random.beta(alpha, alpha) if alpha > 0 else 1\n",
    "    output = lam * image1 + (1 - lam) * image2\n",
    "    return output\n",
    "\n",
    "img1 = Image.open(IMAGE_1)\n",
    "img2 = Image.open(IMAGE_2)\n",
    "img = np.asarray(img)\n",
    "mixup_image = mixup(img1, img2, 0.5)\n",
    "mixup_image"
   ]
  },
  {
   "cell_type": "markdown",
   "metadata": {},
   "source": [
    "In the mixup function you will see that it only works on image of the same size rewrite the function so it works on images of different sizes."
   ]
  },
  {
   "cell_type": "code",
   "execution_count": null,
   "metadata": {},
   "outputs": [],
   "source": [
    "@_PIL_NUMPY\n",
    "def resized_mixup(image1, image2, alpha):\n",
    "    resized_image1 = ...\n",
    "    resized_image2 = ...\n",
    "    lam = np.random.beta(alpha, alpha) if alpha > 0 else 1\n",
    "    output = lam * resized_image1 + (1 - lam) * resized_image2\n",
    "    return output\n",
    "\n",
    "img1 = Image.open(IMAGE_1)\n",
    "img3 = Image.open(IMAGE_3)\n",
    "img = np.asarray(img)\n",
    "resized_mixup = mixup(img1, img3, 0.5)\n",
    "resized_mixup"
   ]
  },
  {
   "cell_type": "markdown",
   "metadata": {},
   "source": [
    "## CutMix\n",
    "CutMix is like Cutout as it remove a section from and image is like Mixup as it uses two images to make new smaple with lables. \n",
    "\n",
    "Instead of cutout removing several holes CutMix only removes one and replce it with the content of the secound image. It detemines the size of the cutout box using the following:\n",
    "\n",
    "<script type=\"text/x-mathjax-config\">\n",
    "MathJax.Hub.Config({\n",
    "tex2jax: {\n",
    "inlineMath: [['$','$'], ['\\\\(','\\\\)']],\n",
    "processEscapes: true},\n",
    "jax: [\"input/TeX\",\"input/MathML\",\"input/AsciiMath\",\"output/CommonHTML\"],\n",
    "extensions: [\"tex2jax.js\",\"mml2jax.js\",\"asciimath2jax.js\",\"MathMenu.js\",\"MathZoom.js\",\"AssistiveMML.js\", \"[Contrib]/a11y/accessibility-menu.js\"],\n",
    "TeX: {\n",
    "extensions: [\"AMSmath.js\",\"AMSsymbols.js\",\"noErrors.js\",\"noUndefined.js\"],\n",
    "equationNumbers: {\n",
    "autoNumber: \"AMS\"\n",
    "}\n",
    "}\n",
    "});\n",
    "</script>\n",
    "\n",
    "$$ \\begin{align}  \n",
    "\\lambda &\\sim Beta(\\alpha, \\alpha)\\\\\n",
    "x_0 &\\sim Uniform(0, W)\\\\\n",
    "y_0 &\\sim Uniform(0, H)\\\\\n",
    "x_l &= W \\sqrt{1 - \\lambda}\\\\  \n",
    "y_l &= H \\sqrt{1 - \\lambda}\\\\\n",
    "\\end{align} $$\n",
    "\n",
    "Where $\\lambda$ detrmines the width and height of the cutout based on the width W and hieght H of the image. $\\lambda$ is sample from $Beta(\\alpha, \\alpha)$ distribution tough in CutMix experiments $\\alpha = 1$. The lower left hand corner of the cutout $ (x_0, y_0) $ is uniform point detrmined by the size of the image."
   ]
  },
  {
   "cell_type": "code",
   "execution_count": null,
   "metadata": {},
   "outputs": [],
   "source": [
    "@_PIL_NUMPY\n",
    "def cutmix(image1, image2):\n",
    "    resized_image1 = ...\n",
    "    resized_image2 = ...\n",
    "\n",
    "    # sample a cutout\n",
    "    h, w, _ = resized_image2.shape\n",
    "    lam = np.random.uniform() # Beta(1, 1)\n",
    "    cut_ratio = np.sqrt(1 - lam)\n",
    "    xl, yl = w * cut_ratio, h * cut_ratio\n",
    "    x0, y0 = np.random.randint(w - xl),  np.random.randint(h - yl)\n",
    "    \n",
    "    output = ...\n",
    "    output[...] = ...\n",
    "    return output\n",
    "\n",
    "img1 = Image.open(IMAGE_1)\n",
    "img2 = Image.open(IMAGE_2)\n",
    "cutmix_img = cutmix(img1, img2)\n",
    "cutmix_img"
   ]
  },
  {
   "cell_type": "markdown",
   "metadata": {},
   "source": [
    "Make sure that your implmentation works for image of different sizes."
   ]
  },
  {
   "cell_type": "code",
   "execution_count": null,
   "metadata": {},
   "outputs": [],
   "source": [
    "img1 = Image.open(IMAGE_1)\n",
    "img3 = Image.open(IMAGE_3)\n",
    "cutmix_img = cutmix(img1, img3)\n",
    "cutmix_img"
   ]
  },
  {
   "cell_type": "markdown",
   "metadata": {},
   "source": [
    "<script type=\"text/x-mathjax-config\">\n",
    "MathJax.Hub.Config({\n",
    "tex2jax: {\n",
    "inlineMath: [['$','$'], ['\\\\(','\\\\)']],\n",
    "processEscapes: true},\n",
    "jax: [\"input/TeX\",\"input/MathML\",\"input/AsciiMath\",\"output/CommonHTML\"],\n",
    "extensions: [\"tex2jax.js\",\"mml2jax.js\",\"asciimath2jax.js\",\"MathMenu.js\",\"MathZoom.js\",\"AssistiveMML.js\", \"[Contrib]/a11y/accessibility-menu.js\"],\n",
    "TeX: {\n",
    "extensions: [\"AMSmath.js\",\"AMSsymbols.js\",\"noErrors.js\",\"noUndefined.js\"],\n",
    "equationNumbers: {\n",
    "autoNumber: \"AMS\"\n",
    "}\n",
    "}\n",
    "});\n",
    "</script>\n",
    "\n",
    "You notice that in our *cutmix(.)* function that $x_0$ and $y_0$ are sampled slightly differently than described above. Rewrite the function and implement it so that $x_0$ and $y_0$ are sampled from the bounds of the image."
   ]
  },
  {
   "cell_type": "code",
   "execution_count": null,
   "metadata": {},
   "outputs": [],
   "source": [
    "@_PIL_NUMPY\n",
    "def cutmix2(image1, image2):\n",
    "    resized_image1 = ...\n",
    "    resized_image2 = ...\n",
    "\n",
    "    # sample a cutout\n",
    "    h, w, _ = resized_image2.shape\n",
    "    lam = np.random.uniform() # Beta(1, 1)\n",
    "    x0, y0 = np.random.randint(w),  np.random.randint(h)\n",
    "    \n",
    "    cut_ratio = np.sqrt(1 - lam)\n",
    "    xl, yl = w * cut_ratio, h * cut_ratio\n",
    "    \n",
    "    xl, yl = ...\n",
    "    \n",
    "    output = ...\n",
    "    output[...] = ...\n",
    "    return output\n",
    "\n",
    "img1 = Image.open(IMAGE_1)\n",
    "img2 = Image.open(IMAGE_2)\n",
    "cutmix_img = cutmix(img1, img2)\n",
    "cutmix_img"
   ]
  }
 ],
 "metadata": {
  "kernelspec": {
   "display_name": "Python 3",
   "language": "python",
   "name": "python3"
  },
  "language_info": {
   "codemirror_mode": {
    "name": "ipython",
    "version": 3
   },
   "file_extension": ".py",
   "mimetype": "text/x-python",
   "name": "python",
   "nbconvert_exporter": "python",
   "pygments_lexer": "ipython3",
   "version": "3.8.5"
  }
 },
 "nbformat": 4,
 "nbformat_minor": 4
}
