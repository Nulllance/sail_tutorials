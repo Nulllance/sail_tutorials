{
 "cells": [
  {
   "cell_type": "markdown",
   "metadata": {},
   "source": [
    "# 3.3.1 Image Augmentation: AutoAugment and RandAugment\n",
    "By Zac Todd\n",
    "\n",
    "This tutorials covers image augmenations included in the Cubuk et al works [AutoAugement](https://arxiv.org/abs/1805.09501) and [RandAugment](https://arxiv.org/abs/1909.13719). It will cover operations such as shear,\n",
    "translate, rotate, auto contrast, invert, equalize, solarize, posterize, contrast, color, brightness, and sharpness."
   ]
  },
  {
   "cell_type": "code",
   "execution_count": null,
   "metadata": {},
   "outputs": [],
   "source": [
    "import os\n",
    "import numpy as np\n",
    "import cv2\n",
    "from PIL import Image, ImageOps, ImageEnhance\n",
    "\n",
    "IMAGES_DIR = f'{os.getcwd()}/resources'\n",
    "IMAGE_1 = f'{IMAGES_DIR}/cat_on_dog.jpg'"
   ]
  },
  {
   "cell_type": "markdown",
   "metadata": {},
   "source": [
    "## Affine Transformtions\n",
    "Affine transformation can be performed using PIL.Image transofmration, we will go over the shear, translateion and rotation transformations.\n",
    "### Shear\n",
    "We can apply the shear with the following matrix.\n",
    "\n",
    "<script type=\"text/x-mathjax-config\">\n",
    "MathJax.Hub.Config({\n",
    "tex2jax: {\n",
    "inlineMath: [['$','$'], ['\\\\(','\\\\)']],\n",
    "processEscapes: true},\n",
    "jax: [\"input/TeX\",\"input/MathML\",\"input/AsciiMath\",\"output/CommonHTML\"],\n",
    "extensions: [\"tex2jax.js\",\"mml2jax.js\",\"asciimath2jax.js\",\"MathMenu.js\",\"MathZoom.js\",\"AssistiveMML.js\", \"[Contrib]/a11y/accessibility-menu.js\"],\n",
    "TeX: {\n",
    "extensions: [\"AMSmath.js\",\"AMSsymbols.js\",\"noErrors.js\",\"noUndefined.js\"],\n",
    "equationNumbers: {\n",
    "autoNumber: \"AMS\"\n",
    "}\n",
    "}\n",
    "});\n",
    "</script>\n",
    "\n",
    "$$\n",
    "S(x, y) = \\begin{bmatrix}\n",
    "1 & y & 0\\\\\n",
    "x & 1 & 0\\\\\n",
    "0 & 0 & 1\\\\\n",
    "\\end{bmatrix}\n",
    "$$\n",
    "\n",
    "We will start with by implmenting a hozizontal shear $S(x, 0)$."
   ]
  },
  {
   "cell_type": "code",
   "execution_count": null,
   "metadata": {},
   "outputs": [],
   "source": [
    "def shear_x(image, sx):\n",
    "    transform = (1, 0, 0,\n",
    "                 sx, 1, 0,\n",
    "                 0, 0, 1)\n",
    "    output = image.transform(img.size, Image.AFFINE, transform)\n",
    "    return output\n",
    "\n",
    "img = Image.open(IMAGE_1)\n",
    "shear_x_img = shear_x(img, 0.1)\n",
    "shear_x_img"
   ]
  },
  {
   "cell_type": "markdown",
   "metadata": {},
   "source": [
    "<script type=\"text/x-mathjax-config\">\n",
    "MathJax.Hub.Config({\n",
    "tex2jax: {\n",
    "inlineMath: [['$','$'], ['\\\\(','\\\\)']],\n",
    "processEscapes: true},\n",
    "jax: [\"input/TeX\",\"input/MathML\",\"input/AsciiMath\",\"output/CommonHTML\"],\n",
    "extensions: [\"tex2jax.js\",\"mml2jax.js\",\"asciimath2jax.js\",\"MathMenu.js\",\"MathZoom.js\",\"AssistiveMML.js\", \"[Contrib]/a11y/accessibility-menu.js\"],\n",
    "TeX: {\n",
    "extensions: [\"AMSmath.js\",\"AMSsymbols.js\",\"noErrors.js\",\"noUndefined.js\"],\n",
    "equationNumbers: {\n",
    "autoNumber: \"AMS\"\n",
    "}\n",
    "}\n",
    "});\n",
    "</script>\n",
    "Now you can implment shearing in the vectical direction direction using $S(0, y)$, by implmeneting *shear_y*"
   ]
  },
  {
   "cell_type": "code",
   "execution_count": null,
   "metadata": {},
   "outputs": [],
   "source": [
    "def shear_y(image, sy):\n",
    "    transform = ...\n",
    "    output = image.transform(img.size, Image.AFFINE, transform)\n",
    "    return output\n",
    "\n",
    "img = Image.open(IMAGE_1)\n",
    "shear_x_img = shear_y(img, 0.1)\n",
    "shear_y_img"
   ]
  },
  {
   "cell_type": "markdown",
   "metadata": {},
   "source": [
    "### Translate\n",
    "Translation allows us to shift images in th horizontal and vectical direction using the following matrix.\n",
    "<script type=\"text/x-mathjax-config\">\n",
    "MathJax.Hub.Config({\n",
    "tex2jax: {\n",
    "inlineMath: [['$','$'], ['\\\\(','\\\\)']],\n",
    "processEscapes: true},\n",
    "jax: [\"input/TeX\",\"input/MathML\",\"input/AsciiMath\",\"output/CommonHTML\"],\n",
    "extensions: [\"tex2jax.js\",\"mml2jax.js\",\"asciimath2jax.js\",\"MathMenu.js\",\"MathZoom.js\",\"AssistiveMML.js\", \"[Contrib]/a11y/accessibility-menu.js\"],\n",
    "TeX: {\n",
    "extensions: [\"AMSmath.js\",\"AMSsymbols.js\",\"noErrors.js\",\"noUndefined.js\"],\n",
    "equationNumbers: {\n",
    "autoNumber: \"AMS\"\n",
    "}\n",
    "}\n",
    "});\n",
    "</script>\n",
    "\n",
    "$$\n",
    "T(x, y) = \\begin{bmatrix}\n",
    "1 & 0 & x\\\\\n",
    "0 & 1 & y\\\\\n",
    "0 & 0 & 1\\\\\n",
    "\\end{bmatrix}\n",
    "$$\n",
    "\n",
    "Use this matrix to write two function; *translate_x* for horizontal translation and *translate_y* for vectical translation."
   ]
  },
  {
   "cell_type": "code",
   "execution_count": null,
   "metadata": {},
   "outputs": [],
   "source": [
    "def translate_x(image, tx) -> np.ndarray:\n",
    "    transform = ...\n",
    "    output = image.transform(img.size, Image.AFFINE, transform)\n",
    "    return output\n",
    "\n",
    "img = Image.open(IMAGE_1)\n",
    "translate_x_img = translate_x(img, 0.5)\n",
    "translate_x_img"
   ]
  },
  {
   "cell_type": "code",
   "execution_count": null,
   "metadata": {},
   "outputs": [],
   "source": [
    "def translate_y(image, ty):\n",
    "    transform = ...\n",
    "    output = image.transform(img.size, Image.AFFINE, transform)\n",
    "    return output\n",
    "\n",
    "img = Image.open(IMAGE_1)\n",
    "translate_y_img = translate_y(img, 100)\n",
    "translate_y_img"
   ]
  },
  {
   "cell_type": "markdown",
   "metadata": {},
   "source": [
    "## Rotate\n",
    "The affine matrix for rotation is the following.\n",
    "\n",
    "<script type=\"text/x-mathjax-config\">\n",
    "MathJax.Hub.Config({\n",
    "tex2jax: {\n",
    "inlineMath: [['$','$'], ['\\\\(','\\\\)']],\n",
    "processEscapes: true},\n",
    "jax: [\"input/TeX\",\"input/MathML\",\"input/AsciiMath\",\"output/CommonHTML\"],\n",
    "extensions: [\"tex2jax.js\",\"mml2jax.js\",\"asciimath2jax.js\",\"MathMenu.js\",\"MathZoom.js\",\"AssistiveMML.js\", \"[Contrib]/a11y/accessibility-menu.js\"],\n",
    "TeX: {\n",
    "extensions: [\"AMSmath.js\",\"AMSsymbols.js\",\"noErrors.js\",\"noUndefined.js\"],\n",
    "equationNumbers: {\n",
    "autoNumber: \"AMS\"\n",
    "}\n",
    "}\n",
    "});\n",
    "</script>\n",
    "$$\n",
    "R(\\theta) = \\begin{bmatrix}\n",
    "cos(\\theta) & sin(\\theta) & 0\\\\\n",
    "-sin(\\theta) & cos(\\theta) & 0\\\\\n",
    "0 & 0 & 1\\\\\n",
    "\\end{bmatrix}\n",
    "$$\n",
    "\n",
    "To peform a rotation around a point you have to tranlate it, rotate and translate it back.\n",
    "\n",
    "\n",
    "$$ T(x, y) \\cdot R(\\theta) \\cdot T(-x, -y) $$\n",
    "\n",
    "\n",
    "Apply this by tranformin an image by rotating it around it centre."
   ]
  },
  {
   "cell_type": "code",
   "execution_count": null,
   "metadata": {},
   "outputs": [],
   "source": [
    "def rotate(image, theta):\n",
    "    w, h = image.size\n",
    "    tx, ty = ...\n",
    "    transform = ...\n",
    "    output = image.transform(img.size, Image.AFFINE, transform)\n",
    "    return output\n",
    "\n",
    "img = Image.open(IMAGE_1)\n",
    "rotate_img = rotate(img, np.radians(30))\n",
    "rotate_img"
   ]
  },
  {
   "cell_type": "markdown",
   "metadata": {},
   "source": [
    "Rotations can also be performed with .rotate(.) on PIL Image objects."
   ]
  },
  {
   "cell_type": "markdown",
   "metadata": {},
   "source": [
    "## Image Enhancement\n",
    "We will look at image enhancements opertions using PIL.ImageOps and PIL.ImageEnhance"
   ]
  },
  {
   "cell_type": "markdown",
   "metadata": {},
   "source": [
    "### ImageEnhance\n",
    "In ImageEnhance the classes of intrest are *Color*, *Contrast*, *Brightness* and *Shrapen* and can be by changing the following:\n",
    "```python\n",
    "ImageEnhance.Enhancement(image).enhance(factor)\n",
    "```\n",
    "\n",
    "Play around with these enhancement in the cell below."
   ]
  },
  {
   "cell_type": "code",
   "execution_count": null,
   "metadata": {},
   "outputs": [],
   "source": [
    "img = Image.open(IMAGE_1)\n",
    "enhanced_img = ImageEnhance. ...\n",
    "enhanced_img"
   ]
  },
  {
   "cell_type": "markdown",
   "metadata": {},
   "source": [
    "### ImageOps\n",
    "The reamining Enhancements uses the ImageOp with the ImageOps function autocontrast, invert, equalise, solarize, and posterize.\n",
    "play around with e function and determine the other required inputs."
   ]
  },
  {
   "cell_type": "code",
   "execution_count": null,
   "metadata": {},
   "outputs": [],
   "source": [
    "img = Image.open(IMAGE_1)\n",
    "enhanced_img = ImageOps. ...\n",
    "enhanced_img"
   ]
  },
  {
   "cell_type": "code",
   "execution_count": null,
   "metadata": {},
   "outputs": [],
   "source": []
  }
 ],
 "metadata": {
  "kernelspec": {
   "display_name": "Python 3",
   "language": "python",
   "name": "python3"
  },
  "language_info": {
   "codemirror_mode": {
    "name": "ipython",
    "version": 3
   },
   "file_extension": ".py",
   "mimetype": "text/x-python",
   "name": "python",
   "nbconvert_exporter": "python",
   "pygments_lexer": "ipython3",
   "version": "3.8.5"
  }
 },
 "nbformat": 4,
 "nbformat_minor": 4
}
