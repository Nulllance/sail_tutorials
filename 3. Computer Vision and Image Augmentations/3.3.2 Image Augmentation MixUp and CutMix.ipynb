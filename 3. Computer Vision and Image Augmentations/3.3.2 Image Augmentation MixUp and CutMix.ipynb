{
 "cells": [
  {
   "cell_type": "markdown",
   "metadata": {},
   "source": [
    "# 3.3.2 Image Augmentation: MixUp and CutMix\n",
    "By Zac Todd\n",
    "\n",
    "This tutorials covers the image augmenations included in the Zhang et al work [MixUp](https://arxiv.org/abs/1710.09412) and Yun et al work [CutMix](https://arxiv.org/abs/1905.04899). "
   ]
  },
  {
   "cell_type": "code",
   "execution_count": null,
   "metadata": {},
   "outputs": [],
   "source": [
    "import os\n",
    "import numpy as np\n",
    "import cv2\n",
    "from PIL import Image, ImageOps, ImageEnhance\n",
    "\n",
    "IMAGES_DIR = f'{os.getcwd()}/resources'\n",
    "IMAGE_1 = f'{IMAGES_DIR}/cat_on_dog.jpg'"
   ]
  },
  {
   "cell_type": "markdown",
   "metadata": {},
   "source": [
    "Wrapper for enabling functions that take np.ndarray to take PIL.Image as input."
   ]
  },
  {
   "cell_type": "code",
   "execution_count": null,
   "metadata": {},
   "outputs": [],
   "source": [
    "def _PIL_NUMPY(func):\n",
    "    def wrapper(image, *args, **kwargs):\n",
    "        array = np.asarray(image)\n",
    "        out_array = func(array, *args, **kwargs)\n",
    "        out_image = Image.fromarray(np.uint8(out_array))\n",
    "        return out_image\n",
    "    return wrapper"
   ]
  }
 ],
 "metadata": {
  "kernelspec": {
   "display_name": "Python 3",
   "language": "python",
   "name": "python3"
  },
  "language_info": {
   "codemirror_mode": {
    "name": "ipython",
    "version": 3
   },
   "file_extension": ".py",
   "mimetype": "text/x-python",
   "name": "python",
   "nbconvert_exporter": "python",
   "pygments_lexer": "ipython3",
   "version": "3.8.5"
  }
 },
 "nbformat": 4,
 "nbformat_minor": 4
}
