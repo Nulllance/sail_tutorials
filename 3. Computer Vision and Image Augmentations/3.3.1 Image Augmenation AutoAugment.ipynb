{
 "cells": [
  {
   "cell_type": "markdown",
   "metadata": {},
   "source": [
    "# 3.3.1 Image Augmentation: AutoAugment\n",
    "By Zac Todd\n",
    "\n",
    "This tutorials covers the image augmenations included in the Cubuk et al work [AutoAugement](https://arxiv.org/abs/1805.09501). It will cover operations such as shear,\n",
    "translate, rotate, auto contrast, invert, equalize, solarize, posterize, contrast, color, brightness, sharpness, and cutout."
   ]
  },
  {
   "cell_type": "code",
   "execution_count": null,
   "metadata": {},
   "outputs": [],
   "source": [
    "import os\n",
    "import numpy as np\n",
    "import cv2\n",
    "from PIL import Image, ImageOps, ImageEnhance\n",
    "\n",
    "IMAGES_DIR = f'{os.getcwd()}/resources'\n",
    "IMAGE_1 = f'{IMAGES_DIR}/cat_on_dog.jpg'"
   ]
  },
  {
   "cell_type": "code",
   "execution_count": null,
   "metadata": {},
   "outputs": [],
   "source": [
    "def _PIL_NUMPY(func):\n",
    "    def wrapper(image, *args, **kwargs):\n",
    "        array = np.asarray(image)\n",
    "        out_array = func(array, *args, **kwargs)\n",
    "        out_image = Image.fromarray(np.uint8(out_array))\n",
    "        return out_image\n",
    "    return wrapper"
   ]
  },
  {
   "cell_type": "markdown",
   "metadata": {},
   "source": [
    "## Affine Transformtions\n",
    "Affine transformation can be performed using PIL.Image transofmration, we will go over the shear, translateion and rotation transformations.\n",
    "### Shear\n",
    "We can apply the shear with the following matrix.\n",
    "```\n",
    "           | 1 y 0 |\n",
    "S(x, y) =  | x 1 0 |\n",
    "           | 0 0 1 |\n",
    "```\n",
    "\n",
    "We will start with by implmenting a hozizontal shear S(x, 0)."
   ]
  },
  {
   "cell_type": "code",
   "execution_count": null,
   "metadata": {},
   "outputs": [],
   "source": [
    "def shear_x(image, sx):\n",
    "    transform = (1, 0, 0,\n",
    "                 sx, 1, 0,\n",
    "                 0, 0, 1)\n",
    "    output = image.transform(img.size, Image.AFFINE, transform)\n",
    "    return output\n",
    "\n",
    "img = Image.open(IMAGE_1)\n",
    "shear_x_img = shear_x(img, 0.1)\n",
    "shear_x_img"
   ]
  },
  {
   "cell_type": "markdown",
   "metadata": {},
   "source": [
    "Now you can implment shearing in the vectical direction direction using S(0, y), by implmeneting *shear_y*"
   ]
  },
  {
   "cell_type": "code",
   "execution_count": null,
   "metadata": {},
   "outputs": [],
   "source": [
    "def shear_y(image, sy):\n",
    "    transform = ...\n",
    "    output = image.transform(img.size, Image.AFFINE, transform)\n",
    "    return output\n",
    "\n",
    "img = Image.open(IMAGE_1)\n",
    "shear_x_img = shear_y(img, 0.1)\n",
    "shear_y_img"
   ]
  },
  {
   "cell_type": "markdown",
   "metadata": {},
   "source": [
    "### Translate\n",
    "Translation allows us to shift images in th horizontal and vectical direction using the following matrix.\n",
    "```\n",
    "          | 1 0 x |\n",
    "T(x, y) = | 0 1 y |\n",
    "          | 0 0 1 |\n",
    "```\n",
    "\n",
    "Use this matrix to write two function; *translate_x* for horizontal translation and *translate_y* for vectical translation."
   ]
  },
  {
   "cell_type": "code",
   "execution_count": null,
   "metadata": {},
   "outputs": [],
   "source": [
    "def translate_x(image, tx) -> np.ndarray:\n",
    "    transform = ...\n",
    "    output = image.transform(img.size, Image.AFFINE, transform)\n",
    "    return output\n",
    "\n",
    "img = Image.open(IMAGE_1)\n",
    "translate_x_img = translate_x(img, 0.5)\n",
    "translate_x_img"
   ]
  },
  {
   "cell_type": "code",
   "execution_count": null,
   "metadata": {},
   "outputs": [],
   "source": [
    "def translate_y(image, ty):\n",
    "    transform = ...\n",
    "    output = image.transform(img.size, Image.AFFINE, transform)\n",
    "    return output\n",
    "\n",
    "img = Image.open(IMAGE_1)\n",
    "translate_y_img = translate_y(img, 100)\n",
    "translate_y_img"
   ]
  },
  {
   "cell_type": "markdown",
   "metadata": {},
   "source": [
    "## Rotate\n",
    "The affine matrix for rotation is the following.\n",
    "```\n",
    "       | cos(t)   sin(t)  0 |\n",
    "R(t) = | -sin(t)  cos(t)  0 |\n",
    "       |   0        0     1 |\n",
    "```\n",
    "\n",
    "To peform a rotation around a point you have to tranlate it, rotate and translate it back.\n",
    "\n",
    "```\n",
    "T(x, y) * R(t) * T(-x, -y)\n",
    "```\n",
    "\n",
    "Apply this by tranformin an image by rotating it around it centre."
   ]
  },
  {
   "cell_type": "code",
   "execution_count": null,
   "metadata": {},
   "outputs": [],
   "source": [
    "def rotate(image, theta):\n",
    "    w, h = image.size\n",
    "    tx, ty = ...\n",
    "    transform = ...\n",
    "    output = image.transform(img.size, Image.AFFINE, transform)\n",
    "    return output\n",
    "\n",
    "img = Image.open(IMAGE_1)\n",
    "rotate_img = rotate(img, np.radians(30))\n",
    "rotate_img"
   ]
  },
  {
   "cell_type": "markdown",
   "metadata": {},
   "source": [
    "Rotations can also be performed with .rotate(.) on PIL Image objects."
   ]
  },
  {
   "cell_type": "markdown",
   "metadata": {},
   "source": [
    "## Image Enhancement\n",
    "We will look at image enhancements opertions using PIL.ImageOps and PIL.ImageEnhance"
   ]
  },
  {
   "cell_type": "markdown",
   "metadata": {},
   "source": [
    "### ImageEnhance\n",
    "In ImageEnhance the classes of intrest are *Color*, *Contrast*, *Brightness* and *Shrapen* and can be by changing the following:\n",
    "```python\n",
    "ImageEnhance.Enhancement(image).enhance(factor)\n",
    "```\n",
    "\n",
    "Play around with these enhancement in the cell below."
   ]
  },
  {
   "cell_type": "code",
   "execution_count": null,
   "metadata": {},
   "outputs": [],
   "source": [
    "img = Image.open(IMAGE_1)\n",
    "enhanced_img = ImageEnhance. ...\n",
    "enhanced_img"
   ]
  },
  {
   "cell_type": "markdown",
   "metadata": {},
   "source": [
    "### ImageOps\n",
    "The reamining Enhancements uses the ImageOp with the ImageOps function autocontrast, invert, equalise, solarize, and posterize.\n",
    "play around with e function and determine the other required inputs."
   ]
  },
  {
   "cell_type": "code",
   "execution_count": null,
   "metadata": {},
   "outputs": [],
   "source": [
    "img = Image.open(IMAGE_1)\n",
    "enhanced_img = ImageOps. ...\n",
    "enhanced_img"
   ]
  },
  {
   "cell_type": "code",
   "execution_count": null,
   "metadata": {},
   "outputs": [],
   "source": [
    "## Cutout\n",
    "Cutoout removes random propostion of images "
   ]
  },
  {
   "cell_type": "code",
   "execution_count": null,
   "metadata": {},
   "outputs": [],
   "source": [
    "@_PIL_NUMPY\n",
    "def cutout(image, holes, length):\n",
    "    output = image.copy()\n",
    "    h, w, _ = output.shape\n",
    "    for _ in range(holes):\n",
    "        x0, y0 = np.random.randint(w - length), np.random.randint(h - length)\n",
    "        output[y0: y0 + length, x0:x0 + length] = 0\n",
    "    return output\n",
    "    \n",
    "img = Image.open(IMAGE_1)\n",
    "cutout_image = cutout(img, 10, 250)\n",
    "cutout_image"
   ]
  },
  {
   "cell_type": "markdown",
   "metadata": {},
   "source": [
    "Now instead of cuting out with black space try cuting out the image with unifrom noise. \n",
    "Hint look at *np.random.randint*."
   ]
  },
  {
   "cell_type": "code",
   "execution_count": null,
   "metadata": {},
   "outputs": [],
   "source": [
    "@_PIL_NUMPY\n",
    "def noisy_cutout(image, holes, length):\n",
    "    output = image.copy()\n",
    "    h, w, _ = output.shape\n",
    "    for _ in range(holes):\n",
    "        x0, y0 = np.random.randint(w - length), np.random.randint(h - length)\n",
    "        output[y0:y0 + length, x0:x0 + length] = \n",
    "    return output\n",
    "    \n",
    "img = Image.open(IMAGE_1)\n",
    "noisy_cutout_image = noisy_cutout(img, 10, 250)\n",
    "noisy_cutout_image"
   ]
  },
  {
   "cell_type": "markdown",
   "metadata": {},
   "source": [
    "# Rand Augment"
   ]
  },
  {
   "cell_type": "markdown",
   "metadata": {},
   "source": [
    "First RandAugment uses an input M to set the magitude of the transformation the *LEVELS* dictionary contains the transformation to M to enable to be inputed into our transformation functions.\n",
    "Where our transformation do not take M we return the magitude."
   ]
  },
  {
   "cell_type": "code",
   "execution_count": null,
   "metadata": {},
   "outputs": [],
   "source": [
    "def level_solarize(magitude):\n",
    "    return int(2.56 * magitude)\n",
    "\n",
    "def level_shear(magitude):\n",
    "    return 0.03 * m\n",
    "\n",
    "def level_translate(magitude):\n",
    "    return  0.045 * m\n",
    "\n",
    "def level_enhance(magitude):\n",
    "    return m * 0.18 + 0.1\n",
    "\n",
    "def level_posterize(magitude):\n",
    "    return int(0.4 * m)\n",
    "\n",
    "def level_rotate(magitude):\n",
    "    return np.radians(3 * magitude)\n",
    "\n",
    "LEVEL = {\n",
    "    'Identity': lambda m: m,\n",
    "    'AutoContrast': lambda m: m,\n",
    "    'Equalize': lambda m: m,\n",
    "    'Rotate': level_rotate,\n",
    "    'Solarize': level_solarize,\n",
    "    'Color': level_enhance,\n",
    "    'Posterize': level_posterize,\n",
    "    'Contrast': level_enhance,\n",
    "    'Brightness': level_enhance,\n",
    "    'Sharpness': level_enhance,\n",
    "    'ShearX': level_shear,\n",
    "    'ShearY': level_shear,\n",
    "    'TranslateX': level_translate,\n",
    "    'TranslateY': level_translate\n",
    "}"
   ]
  },
  {
   "cell_type": "markdown",
   "metadata": {},
   "source": [
    "The *TRANSFORMATIONS* dictionary contains the function calls we need to make to perform the transformations, it takes the affine tranformation you implmented earlier."
   ]
  },
  {
   "cell_type": "code",
   "execution_count": null,
   "metadata": {},
   "outputs": [],
   "source": [
    "TRANSFORMATIONS = {\n",
    "    'Identity': lambda img, _: img,\n",
    "    'AutoContrast': lambda img, _: ImageOps.autocontrast(img),\n",
    "    'Equalize': lambda img, lvl: ImageOps.equalize(img, lvl),\n",
    "    'Rotate': rotate,\n",
    "    'Solarize': lambda img, lvl: ImageOps.solarize(img, lvl),\n",
    "    'Color': lambda img, lvl: ImageEnhance.Color(img).enhance(lvl),\n",
    "    'Posterize': lambda img, lvl: ImageOps.posterize(img, lvl),\n",
    "    'Contrast': lambda img, lvl:  ImageEnhance.Contrast(img).enhance(lvl),\n",
    "    'Brightness': lambda img, lvl: ImageEnhance.Brightness(img).enhance(lvl),\n",
    "    'Sharpness': lambda img, lvl: ImageEnhance.Sharpness(img).enhance(lvl),\n",
    "    'ShearX': shear_x,\n",
    "    'ShearY': shear_y,\n",
    "    'TranslateX': translate_x,\n",
    "    'TranslateY': translate_y,\n",
    "}"
   ]
  },
  {
   "cell_type": "markdown",
   "metadata": {},
   "source": [
    "Finaly we will apply randaugment to an image using the *randaugment(.)* and *apply_augment(.)*, play around with *N* and *M* to see the results."
   ]
  },
  {
   "cell_type": "code",
   "execution_count": null,
   "metadata": {},
   "outputs": [],
   "source": [
    "def randaugment(n):\n",
    "    sampled_ops = np.random.choice(list(TRANSFORMATIONS.keys()), n)\n",
    "    return [op for op in sampled_ops]\n",
    "\n",
    "def apply_augment(image, augmenations, magitude):\n",
    "    output = image.copy()\n",
    "    for op in augmenations:\n",
    "        lvl = LEVEL[op](magitude)\n",
    "        output = TRANSFORMATIONS[op](output, lvl)\n",
    "    return output\n",
    "\n",
    "\n",
    "N = 2\n",
    "M = 5\n",
    "\n",
    "print(f'RandAugment with N={N}, M={M}')\n",
    "augments = randaugment(N)\n",
    "print('Augmenations: \\n\\t ->' + '\\n\\t ->'.join(augments))\n",
    "\n",
    "img = Image.open(IMAGE_1)\n",
    "img_randaugemnt = apply_augment(image, augmenations, M)\n",
    "img_randaugemnt"
   ]
  }
 ],
 "metadata": {
  "kernelspec": {
   "display_name": "Python 3",
   "language": "python",
   "name": "python3"
  },
  "language_info": {
   "codemirror_mode": {
    "name": "ipython",
    "version": 3
   },
   "file_extension": ".py",
   "mimetype": "text/x-python",
   "name": "python",
   "nbconvert_exporter": "python",
   "pygments_lexer": "ipython3",
   "version": "3.8.5"
  }
 },
 "nbformat": 4,
 "nbformat_minor": 4
}
