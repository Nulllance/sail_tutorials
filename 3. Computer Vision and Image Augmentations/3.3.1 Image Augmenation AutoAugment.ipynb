{
 "cells": [
  {
   "cell_type": "markdown",
   "metadata": {},
   "source": [
    "# 3.3.1 Image Augmentation: AutoAugment\n",
    "By Zac Todd\n",
    "\n",
    "This tutorials covers the image augmenations included in the Cubuk et al work [AutoAugement](https://arxiv.org/abs/1805.09501). It will cover operations such as shear,\n",
    "translate, rotate, auto contrast, invert, equalize, solarize, posterize, contrast, color, brightness, and sharpness."
   ]
  },
  {
   "cell_type": "code",
   "execution_count": null,
   "metadata": {},
   "outputs": [],
   "source": [
    "import os\n",
    "import cv2\n",
    "import numpy as np\n",
    "from PIL import Image\n",
    "from scipy import ndimage\n",
    "\n",
    "IMAGES_DIR = f'{os.getcwd()}/resources'\n",
    "IMAGE_1 = f'{IMAGES_DIR}/cat_on_dog.jpg'"
   ]
  },
  {
   "cell_type": "markdown",
   "metadata": {},
   "source": [
    "Loading base image"
   ]
  },
  {
   "cell_type": "markdown",
   "metadata": {},
   "source": [
    "## Affine Transformtions\n",
    "### Shear\n",
    "```\n",
    "| 1 y 0 |\n",
    "| x 1 0 |\n",
    "| 0 0 1 |\n",
    "```"
   ]
  },
  {
   "cell_type": "markdown",
   "metadata": {},
   "source": [
    "Affine transformation can be performed using PIL.Image transofmration\n",
    "For example, shearing in the x direction can be done by:"
   ]
  },
  {
   "cell_type": "code",
   "execution_count": null,
   "metadata": {},
   "outputs": [],
   "source": [
    "def shear_x(image, sx):\n",
    "    transform = (1, 0, 0,\n",
    "                 sx, 1, 0,\n",
    "                 0, 0, 1)\n",
    "    output = image.transform(img.size, Image.AFFINE, transform)\n",
    "    return output\n",
    "\n",
    "img = Image.open(IMAGE_1)\n",
    "shear_x_img = shear_x(img, 0.5)\n",
    "shear_x_img"
   ]
  },
  {
   "cell_type": "markdown",
   "metadata": {},
   "source": [
    "Now you can implment shearing in the y direction"
   ]
  },
  {
   "cell_type": "code",
   "execution_count": null,
   "metadata": {},
   "outputs": [],
   "source": [
    "def shear_y(image, sy):\n",
    "    transform = ...\n",
    "    output = image.transform(img.size, Image.AFFINE, transform)\n",
    "    return output\n",
    "\n",
    "img = Image.open(IMAGE_1)\n",
    "shear_x_img = shear_y(img, 0.5)\n",
    "shear_y_img"
   ]
  },
  {
   "cell_type": "markdown",
   "metadata": {},
   "source": [
    "### Translate\n",
    "Translation is aslo affine matrix with the matrix\n",
    "| 1 0 x |\n",
    "| 0 1 y |\n",
    "| 0 0 1 |"
   ]
  },
  {
   "cell_type": "code",
   "execution_count": null,
   "metadata": {},
   "outputs": [],
   "source": [
    "def translate_x(image, tx) -> np.ndarray:\n",
    "    transform = ...\n",
    "    output = image.transform(img.size, Image.AFFINE, transform)\n",
    "    return output\n",
    "\n",
    "img = Image.open(IMAGE_1)\n",
    "translate_x_img = translate_x(img, 0.5)\n",
    "translate_x_img"
   ]
  },
  {
   "cell_type": "code",
   "execution_count": null,
   "metadata": {},
   "outputs": [],
   "source": [
    "def translate_y(image, ty):\n",
    "    transform = (1, 0, 0, 0, 1, ty)\n",
    "    output = image.transform(img.size, Image.AFFINE, transform)\n",
    "    return output\n",
    "\n",
    "img = Image.open(IMAGE_1)\n",
    "translate_y_img = translate_y(img, 100)\n",
    "translate_y_img"
   ]
  },
  {
   "cell_type": "markdown",
   "metadata": {},
   "source": [
    "## Rotate\n",
    "```\n",
    "| cos(t)   sin(t)  0 |\n",
    "| -sin(t)  cos(t)  0 |\n",
    "|   0        0     1 |\n",
    "```"
   ]
  },
  {
   "cell_type": "code",
   "execution_count": null,
   "metadata": {},
   "outputs": [],
   "source": [
    "def rotate(image, theta):\n",
    "    # There is more todo here to rotate around the centre.\n",
    "    transform = ...\n",
    "    output = image.transform(...)\n",
    "    return output\n",
    "\n",
    "img = Image.open(IMAGE_1)\n",
    "rotate_img = rotate(img, 1)\n",
    "rotate_img"
   ]
  },
  {
   "cell_type": "markdown",
   "metadata": {},
   "source": [
    "Rotations can also be performed with .rotate on PIL Image objects."
   ]
  },
  {
   "cell_type": "markdown",
   "metadata": {},
   "source": [
    "## AutoContrast"
   ]
  },
  {
   "cell_type": "markdown",
   "metadata": {},
   "source": [
    "## Invert"
   ]
  },
  {
   "cell_type": "markdown",
   "metadata": {},
   "source": [
    "## Equalise"
   ]
  },
  {
   "cell_type": "markdown",
   "metadata": {},
   "source": [
    "## Solarize"
   ]
  },
  {
   "cell_type": "markdown",
   "metadata": {},
   "source": [
    "## Posterize"
   ]
  },
  {
   "cell_type": "markdown",
   "metadata": {},
   "source": [
    "## Contrast"
   ]
  },
  {
   "cell_type": "markdown",
   "metadata": {},
   "source": [
    "## colour"
   ]
  },
  {
   "cell_type": "markdown",
   "metadata": {},
   "source": [
    "## Brightness"
   ]
  },
  {
   "cell_type": "markdown",
   "metadata": {},
   "source": [
    "## Sharpness"
   ]
  }
 ],
 "metadata": {
  "kernelspec": {
   "display_name": "Python 3",
   "language": "python",
   "name": "python3"
  },
  "language_info": {
   "codemirror_mode": {
    "name": "ipython",
    "version": 3
   },
   "file_extension": ".py",
   "mimetype": "text/x-python",
   "name": "python",
   "nbconvert_exporter": "python",
   "pygments_lexer": "ipython3",
   "version": "3.8.5"
  }
 },
 "nbformat": 4,
 "nbformat_minor": 4
}
