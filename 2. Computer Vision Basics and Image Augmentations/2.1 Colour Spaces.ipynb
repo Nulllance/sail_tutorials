{
 "cells": [
  {
   "cell_type": "markdown",
   "metadata": {},
   "source": [
    "# 2.1 Colour Space Tutorial\n",
    "By Pac Hung and Zac Todd"
   ]
  },
  {
   "cell_type": "code",
   "execution_count": null,
   "metadata": {},
   "outputs": [],
   "source": [
    "import os\n",
    "import cv2 \n",
    "import numpy as np\n",
    "import matplotlib.pyplot as plt\n",
    "\n",
    "IMAGES_DIR = f\"{os.getcwd()}/resources\""
   ]
  },
  {
   "cell_type": "markdown",
   "metadata": {},
   "source": [
    "By default opencv (cv2) loads images in the format (Blue, Green, Red) and matplot.pylpot (plt) loads images as RGB. However both cv2 and plt do load the image into the same type np.ndarray and with the same shape (height, width, colour channels)."
   ]
  },
  {
   "cell_type": "code",
   "execution_count": null,
   "metadata": {},
   "outputs": [],
   "source": [
    "COLOUR_IMAGE_PATH = f\"{IMAGES_DIR}/color.jpg\"\n",
    "cv2_image = cv2.imread(COLOUR_IMAGE_PATH)\n",
    "plt_image = plt.imread(COLOUR_IMAGE_PATH)\n",
    "\n",
    "print(f\"cv2_image type: {type(cv2_image)}, shape {cv2_image.shape}.\")\n",
    "print(f\"plt_image type: {type(plt_image)}, shape {plt_image.shape}.\")"
   ]
  },
  {
   "cell_type": "markdown",
   "metadata": {},
   "source": [
    "Though we are showing the images using plt, cv2 does have an image viewer.\n",
    "To show an image using cv2 you can uses the following:\n",
    "```python\n",
    "cv2.imshow(image)\n",
    "cv2.waitKey(0)\n",
    "cv2.destroyAllWindows()\n",
    "```"
   ]
  },
  {
   "cell_type": "code",
   "execution_count": null,
   "metadata": {},
   "outputs": [],
   "source": [
    "# showing BGR as RGB\n",
    "plt.imshow(cv2_image)\n",
    "plt.show()\n",
    "\n",
    "# showing RGB as RGB\n",
    "plt.imshow(plt_image)\n",
    "plt.show()"
   ]
  },
  {
   "cell_type": "markdown",
   "metadata": {},
   "source": [
    "Below shows th image in different colour spaces (Note that plt shows grey scale images in blue to yellow rather than black and white)."
   ]
  },
  {
   "cell_type": "code",
   "execution_count": null,
   "metadata": {},
   "outputs": [],
   "source": [
    "def change_show_colorspace(image, spaces, names):\n",
    "    \"\"\"\n",
    "    Convert the image's color space.\n",
    "    \"\"\"\n",
    "    # convert the image to different color space\n",
    "    # including hsv, gray, yuv, ycrcb\n",
    "    plt.imshow(image)\n",
    "    plt.title(f\"RGB {image.shape}\")\n",
    "    plt.show()\n",
    "    for s, n in zip(spaces, names):\n",
    "        cvt_image = image.copy()\n",
    "        cvt_image = cv2.cvtColor(image, s)\n",
    "        plt.imshow(cvt_image)\n",
    "        \n",
    "        # space name and image shape.\n",
    "        plt.title(f\"{n} {cvt_image.shape}\")\n",
    "        plt.show()\n",
    "        \n",
    "# For operations with different options cv2 uses constant flags to communicate what options is being picked.\n",
    "colour_spaces = (cv2.COLOR_RGB2GRAY, cv2.COLOR_RGB2HSV, cv2.COLOR_RGB2YUV, cv2.COLOR_RGB2YCrCb)\n",
    "names = (\"GREY\", \"HSV\", \"YUV\", \"YCrCb\")\n",
    "change_show_colorspace(plt_image, colour_spaces, names)"
   ]
  },
  {
   "cell_type": "code",
   "execution_count": null,
   "metadata": {},
   "outputs": [],
   "source": [
    "# For operations with different options cv2 uses constant flags to communicate what options is being picked.\n",
    "colour_spaces = (cv2.COLOR_RGB2GRAY, cv2.COLOR_RGB2HSV, cv2.COLOR_RGB2YUV, cv2.COLOR_RGB2YCrCb)\n",
    "names = (\"GREY\", \"HSV\", \"YUV\", \"YCrCb\")\n",
    "change_show_colorspace(plt_image, colour_spaces, names)"
   ]
  },
  {
   "cell_type": "markdown",
   "metadata": {},
   "source": [
    "We can apply flood fill to obtain just the flowers in the image."
   ]
  },
  {
   "cell_type": "code",
   "execution_count": null,
   "metadata": {},
   "outputs": [],
   "source": [
    "def fill_color(image):\n",
    "    # copy the image\n",
    "    ff_image = image.copy()\n",
    "    h, w, *_ = image.shape\n",
    "\n",
    "    mask = np.zeros([h + 2, w + 2], np.uint8)\n",
    "\n",
    "    # use floodfill algorithm to fill the image with specific color\n",
    "    # the usage of floodfill:\n",
    "    # https://stackoverflow.com/questions/46036172/irregular-shape-detection-and-measurement-in-python-opencv/46084597#46084597\n",
    "    cv2.floodFill(ff_image, mask, (30, 30), (0, 255, 255), (100, 100, 100), (50, 50, 50), cv2.FLOODFILL_FIXED_RANGE)\n",
    "    \n",
    "    plt.imshow(image)\n",
    "    plt.title(\"Base Image\")\n",
    "    plt.show()\n",
    "    \n",
    "    plt.imshow(mask)\n",
    "    plt.title(\"Mask\")\n",
    "    plt.show()\n",
    "    \n",
    "    plt.imshow(ff_image)\n",
    "    plt.title(\"Fill Colour\")\n",
    "    plt.show()\n",
    "    \n",
    "fill_color(plt_image)"
   ]
  },
  {
   "cell_type": "markdown",
   "metadata": {},
   "source": [
    "We can also create a mask be cheking if each pixel is insed a range. below we do this in the HSV colour space."
   ]
  },
  {
   "cell_type": "code",
   "execution_count": null,
   "metadata": {},
   "outputs": [],
   "source": [
    "def mask_hsv_image(image, upper, lower):\n",
    "    hsv = cv2.cvtColor(image, cv2.COLOR_RGB2HSV)\n",
    "    # find the black parts of the image accroding to its hsv value\n",
    "    mask = cv2.inRange(hsv, upper, lower)\n",
    "    plt.imshow(image)\n",
    "    plt.title(\"Base Image\")\n",
    "    plt.show()\n",
    "    \n",
    "    plt.imshow(mask)\n",
    "    plt.title(\"Mask\")\n",
    "    plt.show()\n",
    "    \n",
    "    \n",
    "# Loading Colour 2 image\n",
    "image = plt.imread(f\"{IMAGES_DIR}/color2.jpg\")\n",
    "\n",
    "\n",
    "lower_hsv = np.array([0, 0, 0])\n",
    "upper_hsv = np.array([30, 255, 110])\n",
    "mask_hsv_image(image, lower_hsv, upper_hsv)"
   ]
  },
  {
   "cell_type": "markdown",
   "metadata": {},
   "source": [
    "Try masking the lady's hand in the image and face in the image."
   ]
  },
  {
   "cell_type": "code",
   "execution_count": null,
   "metadata": {},
   "outputs": [],
   "source": [
    "lower_hsv = ...\n",
    "upper_hsv = ...\n",
    "mask_hsv_image(image, lower_hsv, upper_hsv)"
   ]
  }
 ],
 "metadata": {
  "kernelspec": {
   "display_name": "Python 3",
   "language": "python",
   "name": "python3"
  },
  "language_info": {
   "codemirror_mode": {
    "name": "ipython",
    "version": 3
   },
   "file_extension": ".py",
   "mimetype": "text/x-python",
   "name": "python",
   "nbconvert_exporter": "python",
   "pygments_lexer": "ipython3",
   "version": "3.7.6"
  }
 },
 "nbformat": 4,
 "nbformat_minor": 4
}