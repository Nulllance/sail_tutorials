{
 "cells": [
  {
   "cell_type": "markdown",
   "metadata": {},
   "source": [
    "# 2.4 Histograms Tutorial\n",
    "By Pac Hung and Zac Todd\n",
    "\n",
    "The image used in this tutoial is large so examples maybe take a couple of secounds to run."
   ]
  },
  {
   "cell_type": "code",
   "execution_count": null,
   "metadata": {},
   "outputs": [],
   "source": [
    "import os\n",
    "import math\n",
    "import cv2\n",
    "import numpy as np\n",
    "import matplotlib.pyplot as plt\n",
    "\n",
    "\n",
    "# Increase output size of images viewer\n",
    "plt.rcParams['figure.figsize'] = [19, 10]\n",
    "\n",
    "\n",
    "IMAGES_DIR = f\"{os.getcwd()}/resources\""
   ]
  },
  {
   "cell_type": "code",
   "execution_count": null,
   "metadata": {},
   "outputs": [],
   "source": [
    "img = plt.imread(f\"{IMAGES_DIR}/histogram.jpg\")\n",
    "plt.imshow(img)\n",
    "plt.show()"
   ]
  },
  {
   "cell_type": "markdown",
   "metadata": {},
   "source": [
    "Below is the histogram of the image in grey scale."
   ]
  },
  {
   "cell_type": "code",
   "execution_count": null,
   "metadata": {},
   "outputs": [],
   "source": [
    "def draw_gray_hist(img, title='original'):\n",
    "    gray_img = cv2.cvtColor(img, cv2.COLOR_RGB2GRAY)\n",
    "    h, w = gray_img.shape[:2]\n",
    "    pixelSequence = gray_img.reshape([h * w, ])\n",
    "    numberBins = 256\n",
    "    histogram, bins, patch = plt.hist(pixelSequence, numberBins,\n",
    "                                      facecolor='black', histtype='bar')\n",
    "    plt.xlabel(\"gray label\")\n",
    "    plt.ylabel(\"number of pixels\")\n",
    "    plt.title(title)\n",
    "    plt.axis([0, 255, 0, np.max(histogram)])\n",
    "    plt.show()\n",
    "    \n",
    "\n",
    "draw_gray_hist(img)"
   ]
  },
  {
   "cell_type": "code",
   "execution_count": null,
   "metadata": {},
   "outputs": [],
   "source": [
    "def histogram_transform(img, transform_func):\n",
    "    '''\n",
    "    Implement histogram transformation for each color channel of a image\n",
    "    :param img: 3 channel image\n",
    "    :param transform_func: histogram transformation function to be used\n",
    "    :return: image after histogram transformation\n",
    "    '''\n",
    "    # implement histogram transformation for each color channel\n",
    "    r = img[:, :, 0]\n",
    "    g = img[:, :, 1]\n",
    "    b = img[:, :, 2]\n",
    "    \n",
    "    r_out = transform_func(r)\n",
    "    g_out = transform_func(g)\n",
    "    b_out = transform_func(b)\n",
    "    \n",
    "    equalized_out = np.stack((r_out, g_out, b_out), axis=-1)\n",
    "    draw_gray_hist(equalized_out, 'histogram_transformed')\n",
    "    plt.imshow('histogram_transformed', equalized_out)\n",
    "    plt.show()\n",
    "\n",
    "\n",
    "def normalize_transform(img):\n",
    "    '''\n",
    "    Normalize the histogram of a grayscale image(or any one channel images)\n",
    "    :param img: grayscale image(or any one channel images)\n",
    "    :return: image after normalize transformation\n",
    "    '''\n",
    "    # find the global minimun and maximun of image array\n",
    "    in_min, in_max = cv2.minMaxLoc(img)[:2] \n",
    "    out_min, out_max = 0, 255\n",
    "    \n",
    "    # calculate a and b and output = a * img + b\n",
    "    a = float(out_max - out_min) / (in_max - in_min)\n",
    "    b = out_min - a * out_min\n",
    "    output = a * img + b\n",
    "    output = output.astype(np.uint8)\n",
    "    return output\n",
    "\n",
    "histogram_transform(img, normalize_transform)"
   ]
  },
  {
   "cell_type": "code",
   "execution_count": null,
   "metadata": {},
   "outputs": [],
   "source": [
    "def linear_transform(img, a=2.0, b=10.0):\n",
    "    '''\n",
    "    :param img: grayscale image(or any one channel images)\n",
    "    :param a:  float  \n",
    "    :param b:  float\n",
    "    :return: output = a * img + b\n",
    "    '''\n",
    "    output = a * img + b\n",
    "    output[output > 255] = 255\n",
    "    output = np.around(output)\n",
    "    output = output.astype(np.uint8)\n",
    "    return output\n",
    "\n",
    "histogram_transform(img, cv2.linear_transform)"
   ]
  },
  {
   "cell_type": "code",
   "execution_count": null,
   "metadata": {},
   "outputs": [],
   "source": [
    "histogram_transform(img, cv2.equalizeHist)"
   ]
  },
  {
   "cell_type": "code",
   "execution_count": null,
   "metadata": {},
   "outputs": [],
   "source": [
    "def equalize_transfrom_2(img):\n",
    "    '''\n",
    "    Equalize the histogram of a grayscale image(or any one channel images).\n",
    "    The probability density function of the output images's histogram follows the discrete uniform distribution\n",
    "    :param img: grayscale image(or any one channel images)\n",
    "    :return: image after histogram equalization transformation\n",
    "    '''\n",
    "    h, w = img.shape\n",
    "    # calculate the image's color histogram array\n",
    "    gray_hist = np.zeros([256], np.uint64)\n",
    "    for i in range(h):\n",
    "        for j in range(w):\n",
    "            gray_hist[img[i][j]] += 1\n",
    "\n",
    "    # calculate the color histogram's discrete cumulative distribution\n",
    "    cumulate_hist = np.zeros([256], np.uint32)\n",
    "    for p in range(256):\n",
    "        if p == 0:\n",
    "            cumulate_hist[p] = gray_hist[0]\n",
    "        else:\n",
    "            cumulate_hist[p] = cumulate_hist[p - 1] + gray_hist[p]\n",
    "\n",
    "    # calculate the histogram value mapping based on the (3-15) equation \n",
    "    # of 'histogram eaualization.pdf'\n",
    "    output_hist_map = np.zeros([256], np.uint8)\n",
    "    cofficient = 255.0 / (h * w)\n",
    "    for p in range(256):\n",
    "        q = cofficient * float(cumulate_hist[p]) - 1\n",
    "        if q >= 0:\n",
    "            output_hist_map[p] = math.floor(q)\n",
    "        else:\n",
    "            output_hist_map[p] = 0\n",
    "\n",
    "    # project each pixel value of original image to the equalized histogram map\n",
    "    equalized_hist_img = np.zeros(img.shape, np.uint8)\n",
    "    for i in range(h):\n",
    "        for j in range(w):\n",
    "            equalized_hist_img[i][j] = output_hist_map[img[i][j]]\n",
    "    return equalized_hist_img\n",
    "\n",
    "histogram_transform(img, equalize_transfrom_2)"
   ]
  }
 ],
 "metadata": {
  "kernelspec": {
   "display_name": "Python 3",
   "language": "python",
   "name": "python3"
  },
  "language_info": {
   "codemirror_mode": {
    "name": "ipython",
    "version": 3
   },
   "file_extension": ".py",
   "mimetype": "text/x-python",
   "name": "python",
   "nbconvert_exporter": "python",
   "pygments_lexer": "ipython3",
   "version": "3.7.6"
  }
 },
 "nbformat": 4,
 "nbformat_minor": 4
}
