{
 "cells": [
  {
   "cell_type": "markdown",
   "metadata": {},
   "source": [
    "# Python Questions\n",
    "By Zac Todd\n",
    "\n",
    "This notebook contains several python sample question to sharpen you python skills."
   ]
  },
  {
   "cell_type": "code",
   "execution_count": 1,
   "metadata": {
    "id": "3-LyBvH1u2We"
   },
   "outputs": [],
   "source": [
    "from typing import Tuple, List, Dict\n",
    "import numpy as np\n",
    "import matplotlib.pyplot as plt\n",
    "from matplotlib.colors import ListedColormap"
   ]
  },
  {
   "cell_type": "markdown",
   "metadata": {
    "id": "VYNIJXaKu2lV"
   },
   "source": [
    "## Question 1: Roman Numerals\n",
    "Convert roman numerals to integer.\n",
    "Roman numerals consist of the letters I, V, X, L, C, D, and M, representing 1, 5, 10, 50, 100, 500, and 1000 repectivly."
   ]
  },
  {
   "cell_type": "code",
   "execution_count": 15,
   "metadata": {
    "id": "Us1Id2kQu27N"
   },
   "outputs": [
    {
     "data": {
      "text/plain": [
       "49"
      ]
     },
     "execution_count": 15,
     "metadata": {},
     "output_type": "execute_result"
    }
   ],
   "source": [
    "def convert_roman_to_integer(roman: str) -> int:\n",
    "    \"\"\"\n",
    "    Examples:\n",
    "    Input -> Output\n",
    "    'IV' -> 4\n",
    "    'XXI' -> 21\n",
    "    'MDCL' -> 1650\n",
    "    'CM' -> 900\n",
    "    \"\"\"\n",
    "  return"
   ]
  },
  {
   "cell_type": "markdown",
   "metadata": {
    "id": "XLO4geSOwxXL"
   },
   "source": [
    "## Question 2: Ransom Note\n",
    "\n",
    "You have stolen a cookie jar and plan to ransom it back to the owner, you have a pile of magazines to create your ransom note but are not sure if you have the right letter to write it. Write a function to check"
   ]
  },
  {
   "cell_type": "code",
   "execution_count": null,
   "metadata": {
    "id": "3vT1gbWfwxqj"
   },
   "outputs": [],
   "source": [
    "def can_write_note(letters: str, note: str) -> bool:\n",
    "  \"\"\"\n",
    "  Examples:\n",
    "    Input -> Output\n",
    "    'hrhHHpdptuaybI', 'happy birthday' -> True\n",
    "    '1021theber15m5nov', 'november 15th 2021' -> True\n",
    "    'iipptlng06eawel', 'Pipitea Wellington 6011' -> False\n",
    "  \"\"\"\n",
    "  \n",
    "  return"
   ]
  },
  {
   "cell_type": "markdown",
   "metadata": {
    "id": "EiXU3mzs43Wc"
   },
   "source": [
    "## Question 3: Minimum Payments\n",
    "You and a group of friends when on a road trip and have all spent different amounts on the various joint activity. Write a function to determine the minium payments than need to take place to ensure that to cost are spread equaly.\n",
    "\n",
    "You can uses *_pprint_transactions* to visualise your payments."
   ]
  },
  {
   "cell_type": "code",
   "execution_count": null,
   "metadata": {
    "id": "JItJYX1m43fr"
   },
   "outputs": [],
   "source": [
    "def pprint_transactions(transactions: Set[Tuple[str, str, float]]) -> None:\n",
    "    for p, r, t in sorted(transactions, key=lambda x: x[2]):\n",
    "        print(f'{p} -> {r} ${t:.2f}')\n",
    "\n",
    "\n",
    "def minimum_payments(payed: Dict[str, float]) -> Set[Tuple[str, str, float]]\n",
    "    \"\"\"\n",
    "    Examples\n",
    "    Input -> Output\n",
    "    {'A': 10.0, 'B': 0.0} -> {('B', 'A', 5.0)}\n",
    "    {'A': 10.0, 'B': 4.0, 'C': 1.0} -> {('B', 'A', 1.0), ('C', 'A', 4.0)}\n",
    "    {'A': 10.0, 'B': 10.0, 'C': 1.0, 'D': 1.0} -> {('C', 'A', 4.5), ('D', 'B', 4.5)}\n",
    "    \"\"\"\n",
    "    return"
   ]
  },
  {
   "cell_type": "markdown",
   "metadata": {
    "id": "90UWzbCZ7Ba4"
   },
   "source": [
    "## Question 4: Gradient Reduction\n",
    "Write a function that taken in values and reduce the array to the changes in direction in graident."
   ]
  },
  {
   "cell_type": "code",
   "execution_count": null,
   "metadata": {
    "id": "nlLSjK8x7BnX"
   },
   "outputs": [],
   "source": [
    "def gradient_reduction(heights: List[int]) -> List[int]:\n",
    "    \"\"\"\n",
    "    Examples\n",
    "    Input -> Output\n",
    "    [19, 19, 19] -> [0]\n",
    "    [19, 20, 18] -> [1, -1]\n",
    "    [-4, -3, -4, -4, -2, 57, 13, 12] -> [1, -1, 0, 1, -1]\n",
    "    [1, 0, 0, 1, 0, 1] -> [-1, 0, 1, -1, 1]\n",
    "    \"\"\"\n",
    "    return"
   ]
  },
  {
   "cell_type": "markdown",
   "metadata": {
    "id": "6hfrW2Jh3qOE"
   },
   "source": [
    "## Question 5: Weighted Combinations\n",
    "You have a backpack that can only hold a particle weight of items write a function that return all combination of items that can be stored in your backpack given a total weight."
   ]
  },
  {
   "cell_type": "code",
   "execution_count": null,
   "metadata": {
    "id": "q5Mlzxeg3qcV"
   },
   "outputs": [],
   "source": [
    "def weighted_combination(item_weights: Dict[Any, float], total: int = 100) -> int:\n",
    "    \"\"\"\n",
    "    Examples\n",
    "    Input -> Output\n",
    "    {'oranges': 50, 'apples': 50}, 100 -> 3\n",
    "    {'oranges': 35, 'apples': 25}, 100 -> 1\n",
    "    {'2Kg': 2, '1Kg': 1, '500g': 0.5, '200g': 0.2, '100g': 0.1, '50g': 0.05, '20g': 0.02, '10g': 0.01}, 2 -> 73682 \n",
    "    \"\"\"\n",
    "    return"
   ]
  },
  {
   "cell_type": "markdown",
   "metadata": {
    "id": "EHW0xhvd2mpG"
   },
   "source": [
    "## Question 6: Minimum Edit Distance\n",
    "Write a function to determine the minimum number of changes, insertion or deletion required to make two words the same."
   ]
  },
  {
   "cell_type": "code",
   "execution_count": null,
   "metadata": {
    "id": "BOGyOoxS2mys"
   },
   "outputs": [],
   "source": [
    "def minimum_edit_distance(a: str, b: str) -> int:\n",
    "    \"\"\"\n",
    "    Example\n",
    "    Input -> Output\n",
    "    'cat', 'hat' -> 1\n",
    "    'ultra', 'train' -> 4\n",
    "    'beehive', '' -> 7\n",
    "    'backpack', 'backpack' -> 0\n",
    "    \"\"\"\n",
    "    return"
   ]
  },
  {
   "cell_type": "markdown",
   "metadata": {
    "id": "k7YPMZIk0dqh"
   },
   "source": [
    "## Question 7: Intersection of Circle\n",
    "\n",
    "Write a function that determines the point(s) of intersection if they exist between two circles.\n",
    "\n",
    "<script type=\"text/x-mathjax-config\">\n",
    "MathJax.Hub.Config({\n",
    "tex2jax: {\n",
    "inlineMath: [['$','$'], ['\\\\(','\\\\)']],\n",
    "processEscapes: true},\n",
    "jax: [\"input/TeX\",\"input/MathML\",\"input/AsciiMath\",\"output/CommonHTML\"],\n",
    "extensions: [\"tex2jax.js\",\"mml2jax.js\",\"asciimath2jax.js\",\"MathMenu.js\",\"MathZoom.js\",\"AssistiveMML.js\", \"[Contrib]/a11y/accessibility-menu.js\"],\n",
    "TeX: {\n",
    "extensions: [\"AMSmath.js\",\"AMSsymbols.js\",\"noErrors.js\",\"noUndefined.js\"],\n",
    "equationNumbers: {\n",
    "autoNumber: \"AMS\"\n",
    "}\n",
    "}\n",
    "});\n",
    "</script>\n",
    "\n",
    "$$\\frac{x^2}{a} + \\frac{y^2}{b} = r^2$$\n",
    "Where $Circle(a, b, r)$ would have be centred at $(a, b)$ and have a radus $r$.\n",
    "\n",
    "\n",
    "You can use *_draw_intersections* to visualise and confirm your results."
   ]
  },
  {
   "cell_type": "code",
   "execution_count": null,
   "metadata": {
    "id": "HVVum49i0d9P"
   },
   "outputs": [],
   "source": [
    "def _draw_intersections(c1: Tuple[float, float, float], c2: Tuple[float, float, float], intersections: List[Tuple[float, float]]) -> None:\n",
    "    x1, y1, r1 = c1\n",
    "    x2, y2, r2 = c2\n",
    "    circle1 = plt.Circle((x1, y1), r1, color='red', alpha=0.5)\n",
    "    circle2 = plt.Circle((x2, y2), r2, color='blue', alpha=0.5)\n",
    "\n",
    "    fig, ax = plt.subplots()\n",
    "    ax.add_patch(circle1)\n",
    "    ax.add_patch(circle2)\n",
    "    if len(intersections) > 0:\n",
    "        xs, ys = zip(*intersections)\n",
    "        ax.scatter(xs, ys, c='blue')\n",
    "    plt.ylim(min(y1 - r1, y2 - r2), max(y1 + r1, y2 + r2))\n",
    "    plt.xlim(min(x1 - r1, x2 - r2), max(x1 + r1, x2 + r2))\n",
    "    plt.show()\n",
    "\n",
    "\n",
    "def circle_intersection_points(c1: Tuple[float, float, float], c2: Tuple[float, float, float]) -> List[Tuple[float, float]]:\n",
    "    \"\"\"\n",
    "    Example\n",
    "    Input -> Output\n",
    "    (0, 0, 5), (0, 0, 1) -> []\n",
    "    (10, 10, 1), (0, 0, 1) -> []\n",
    "    (0, 0, 1) -> (2, 0, 1) -> [(1, 0)]\n",
    "    \"\"\"\n",
    "    return"
   ]
  },
  {
   "cell_type": "markdown",
   "metadata": {
    "id": "t6ocb0RQzwmK"
   },
   "source": [
    "## Question 8: Knights Tour\n",
    "A knights tour is where a knight move around a chess board visting every square exactly once, write a function that that takes a random starting position a return the subsequent path path. A knight moves by in an L by moving three squares and then 2 squares in any direction.\n",
    "\n",
    "You can verify the tour by using the *_draw_path* function to visulise your results."
   ]
  },
  {
   "cell_type": "code",
   "execution_count": null,
   "metadata": {
    "colab": {
     "base_uri": "https://localhost:8080/",
     "height": 275
    },
    "id": "7d7aM6hXzzYp",
    "outputId": "544adf3c-cb18-41d2-8680-5fed4e11b5c6"
   },
   "outputs": [],
   "source": [
    "def _draw_path(start: Tuple[int, int], path: List[Tuple[int, int]]) -> None:\n",
    "    board = np.zeros((8, 8))\n",
    "    board[1::2,::2] = 1\n",
    "    board[::2,1::2] = 1\n",
    "    board[start] = 2\n",
    "\n",
    "    plt.matshow(board, cmap = ListedColormap(['k', 'w', 'b']))\n",
    "\n",
    "    x, y = zip(*path)\n",
    "    plt.plot(x, y, c='r')\n",
    "    plt.show()\n",
    "\n",
    "def knights_tour(x: int, y: int) -> List[Tuple[int, int]]:\n",
    "    return"
   ]
  },
  {
   "cell_type": "markdown",
   "metadata": {
    "id": "HB43j2-FykJZ"
   },
   "source": [
    "## Question 9: Circular Distribution.\n",
    "<script type=\"text/x-mathjax-config\">\n",
    "MathJax.Hub.Config({\n",
    "tex2jax: {\n",
    "inlineMath: [['$','$'], ['\\\\(','\\\\)']],\n",
    "processEscapes: true},\n",
    "jax: [\"input/TeX\",\"input/MathML\",\"input/AsciiMath\",\"output/CommonHTML\"],\n",
    "extensions: [\"tex2jax.js\",\"mml2jax.js\",\"asciimath2jax.js\",\"MathMenu.js\",\"MathZoom.js\",\"AssistiveMML.js\", \"[Contrib]/a11y/accessibility-menu.js\"],\n",
    "TeX: {\n",
    "extensions: [\"AMSmath.js\",\"AMSsymbols.js\",\"noErrors.js\",\"noUndefined.js\"],\n",
    "equationNumbers: {\n",
    "autoNumber: \"AMS\"\n",
    "}\n",
    "}\n",
    "});\n",
    "</script>\n",
    "Write a function that uniformly selects a point within a circle. Hint *np.random.random* samples from $Unif(0, 1)$.\n",
    "\n",
    "You can verify your function using *_draw_circle_distribution* and comparing your result with the below distributions.\n",
    "![Alt text](resourses/q9_answer.png)"
   ]
  },
  {
   "cell_type": "code",
   "execution_count": 83,
   "metadata": {
    "id": "TA0RqM-uykX_"
   },
   "outputs": [],
   "source": [
    "def _draw_circle_distribution() -> None:\n",
    "    samples = [sample_circle_distribution() for _ in range(100000)]\n",
    "    x, y = zip(*samples)\n",
    "    r = [np.sqrt(x ** 2 + y ** 2) for x, y in samples]\n",
    "    theta = [np.arctan(y / x) + (np.pi if x < 0 else (2 * np.pi if y < 0 else 0)) for x, y in samples]\n",
    "    \n",
    "    fig = plt.figure(figsize=(48, 16))\n",
    "\n",
    "    gs = fig.add_gridspec(2, 8)\n",
    "    ax1 = fig.add_subplot(gs[:, :2])\n",
    "    ax1.scatter(x, y, s=2)\n",
    "    ax1.set_title('Circle Distribution')\n",
    "    \n",
    "    ax2 = fig.add_subplot(gs[0, 2])\n",
    "    ax2.hist(x, density=True, bins=50)\n",
    "    ax2.set_title('x Distribution')\n",
    "    \n",
    "    ax3 = fig.add_subplot(gs[0, 3])\n",
    "    ax3.hist(y, density=True, bins=50)\n",
    "    ax3.set_title('y Distribution')\n",
    "    \n",
    "    ax4 = fig.add_subplot(gs[1, 2])\n",
    "    ax4.hist(theta, density=True, bins=50)\n",
    "    ax4.set_title('theta Distribution')\n",
    "    \n",
    "    ax5 = fig.add_subplot(gs[1, 3])\n",
    "    ax5.hist(r, density=True, bins=50)\n",
    "    ax5.set_title('r Distribution')\n",
    "    plt.show()\n",
    "\n",
    "\n",
    "def sample_circle_distribution() -> Tuple[float, float]:\n",
    "    return"
   ]
  },
  {
   "cell_type": "markdown",
   "metadata": {
    "id": "7Vw9XOsK1D2w"
   },
   "source": [
    "## Question 10: N Queens\n",
    "Place N queens on an N by N chess board in such away that they cannot attack each other. Queens attack along the row, column and diangles from their postion.\n",
    "\n",
    "You can use the *_draw_board(.)* to visualise your result.\n",
    "\n",
    "Strength problem write a function that return all the possible N by N boards that contain N queens."
   ]
  },
  {
   "cell_type": "code",
   "execution_count": null,
   "metadata": {
    "id": "TCTPgkenzwRE"
   },
   "outputs": [],
   "source": [
    "def _draw_board(queens: List[List[str]]) -> None:\n",
    "    qarray = np.asarray(queens)\n",
    "    board = np.zeros(qarray.shape)\n",
    "    board[1::2,::2] = 1\n",
    "    board[::2,1::2] = 1\n",
    "\n",
    "    plt.matshow(board, cmap = ListedColormap(['k', 'w']))\n",
    "\n",
    "    qidx = np.where(qarray == 'Q')\n",
    "    plt.scatter(*qidx, c='r', s=300)\n",
    "    plt.show()\n",
    "\n",
    "\n",
    "def n_queens(n: int) -> List[List[str]]:\n",
    "    \"\"\"\n",
    "    Examples\n",
    "    Input -> Ouput\n",
    "    4 -> [[\"\", \"\", \"Q\", \"\"], [\"Q\", \"\", \"\", \"\"], [\"\", \"\", \"\", \"Q\"], [\"\", \"Q\", \"\", \"\"]]\n",
    "    \"\"\"\n",
    "    return"
   ]
  }
 ],
 "metadata": {
  "colab": {
   "name": "Python Quetions.ipynb",
   "provenance": []
  },
  "kernelspec": {
   "display_name": "Python 3",
   "language": "python",
   "name": "python3"
  },
  "language_info": {
   "codemirror_mode": {
    "name": "ipython",
    "version": 3
   },
   "file_extension": ".py",
   "mimetype": "text/x-python",
   "name": "python",
   "nbconvert_exporter": "python",
   "pygments_lexer": "ipython3",
   "version": "3.8.5"
  }
 },
 "nbformat": 4,
 "nbformat_minor": 4
}