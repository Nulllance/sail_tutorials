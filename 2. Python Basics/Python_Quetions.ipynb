{
 "cells": [
  {
   "cell_type": "markdown",
   "metadata": {},
   "source": [
    "# Python Questions\n",
    "By Zac Todd\n",
    "\n",
    "This notbook containes sveral python sample question to sheapern you python skills."
   ]
  },
  {
   "cell_type": "code",
   "execution_count": null,
   "metadata": {
    "id": "3-LyBvH1u2We"
   },
   "outputs": [],
   "source": [
    "from typing import Tuple, List, Dict\n",
    "import numpy as np\n",
    "import matplotlib.pyplot as plt\n",
    "from matplotlib.colors import ListedColormap"
   ]
  },
  {
   "cell_type": "markdown",
   "metadata": {
    "id": "VYNIJXaKu2lV"
   },
   "source": [
    "## Question 1: Roman Numerals\n",
    "Convert roman numerals to integer.\n",
    "Roman numerals conist of the letters I, V, X, C, L, D, and M, reprsenting 1, 5, 10, 50, 100, 500, and 100 repectivly."
   ]
  },
  {
   "cell_type": "code",
   "execution_count": null,
   "metadata": {
    "id": "Us1Id2kQu27N"
   },
   "outputs": [],
   "source": [
    "def convet_roman_to_intger(roman: str) -> int:\n",
    "    \"\"\"\n",
    "    Examples:\n",
    "    Input -> Output\n",
    "    'IV' -> 4\n",
    "    'XXI' -> 21\n",
    "    'MDCL' -> 1650\n",
    "    \"\"\"\n",
    "    return"
   ]
  },
  {
   "cell_type": "markdown",
   "metadata": {
    "id": "XLO4geSOwxXL"
   },
   "source": [
    "## Question 2: Ransome Note\n",
    "\n",
    "You cut letters out of a magzine to write a ransome note, write a function to determine"
   ]
  },
  {
   "cell_type": "code",
   "execution_count": null,
   "metadata": {
    "id": "3vT1gbWfwxqj"
   },
   "outputs": [],
   "source": [
    "def can_write_note(letters: str, note: str) -> bool:\n",
    "  \"\"\"\n",
    "  Examples:\n",
    "    Input -> Output\n",
    "    'hrhHHpdptuaybI', 'happy birthday' -> True\n",
    "    '1021theber15m5nov', 'november 15th 2021' -> True\n",
    "    'iipptlng06eawel', 'Pipitea Wellington 6011' -> False\n",
    "  \"\"\"\n",
    "  return"
   ]
  },
  {
   "cell_type": "markdown",
   "metadata": {
    "id": "EiXU3mzs43Wc"
   },
   "source": [
    "Question 3: Miunium Transcations\n",
    "\n"
   ]
  },
  {
   "cell_type": "code",
   "execution_count": null,
   "metadata": {
    "id": "JItJYX1m43fr"
   },
   "outputs": [],
   "source": [
    "def _pprint_transcations(transcations: Set[Tuple[str, str, float]]) -> None:\n",
    "    for p, r, t in sorted(transcations, key=lambda x: x[2]):\n",
    "        print(f'{p} -> {r} ${t:.2f}')\n",
    "\n",
    "\n",
    "def minmiun_transcations(payed: Dict[str, float]) -> Set[Tuple[str, str, float]]\n",
    "    \"\"\"\n",
    "    Examples\n",
    "    Input -> Output\n",
    "    {'A': 10.0, 'B': 0.0} -> {('B', 'A', 5.0)}\n",
    "    {'A': 10.0, 'B': 4.0, 'C': 1.0} -> {('B', 'A', 1.0), ('C', 'A', 4.0)}\n",
    "    {'A': 10.0, 'B': 10.0, 'C': 1.0, 'D': 1.0} -> {('C', 'A', 4.5), ('D', 'B', 4.5)}\n",
    "    \"\"\"\n",
    "    return"
   ]
  },
  {
   "cell_type": "markdown",
   "metadata": {
    "id": "90UWzbCZ7Ba4"
   },
   "source": [
    "Question 4: Gradient Reduction\n",
    "\n",
    "Reduce a list of number to changes in gradint."
   ]
  },
  {
   "cell_type": "code",
   "execution_count": null,
   "metadata": {
    "id": "nlLSjK8x7BnX"
   },
   "outputs": [],
   "source": [
    "def gradient_reduction(heights: List[int]) -> List[int]:\n",
    "    \"\"\"\n",
    "    Examples\n",
    "    Input -> Output\n",
    "    [19, 19, 19] -> [0]\n",
    "    [19, 20, 18] -> [1, -1]\n",
    "    [-4, -3, -4, -4, -2, 57, 13, 12] -> [1, -1, 0, 1, -1]\n",
    "    [1, 0, 0, 1, 0, 1] -> [-1, 0, 1, -1, 1]\n",
    "    \"\"\"\n",
    "    return"
   ]
  },
  {
   "cell_type": "markdown",
   "metadata": {
    "id": "6hfrW2Jh3qOE"
   },
   "source": [
    "Question 5: Weighted Combinations\n",
    "\n",
    "Detrmine the number of ways"
   ]
  },
  {
   "cell_type": "code",
   "execution_count": null,
   "metadata": {
    "id": "q5Mlzxeg3qcV"
   },
   "outputs": [],
   "source": [
    "def weighted_combination(item_weights: Dict[Any, int], total: int = 100) -> int:\n",
    "    \"\"\"\n",
    "    Examples\n",
    "    Input -> Output\n",
    "    {'red': 50, 'yellow': 50}, 100 -> 1\n",
    "    \"\"\"\n",
    "    pass"
   ]
  },
  {
   "cell_type": "markdown",
   "metadata": {
    "id": "EHW0xhvd2mpG"
   },
   "source": [
    "Question 6: Minium Edit Distance\n",
    "\n",
    "Determine the minium number of changes, insertion or deletion required to make two words the same. "
   ]
  },
  {
   "cell_type": "code",
   "execution_count": null,
   "metadata": {
    "id": "BOGyOoxS2mys"
   },
   "outputs": [],
   "source": [
    "def minium_edit_distance(a: str, b: str) -> int:\n",
    "    \"\"\"\n",
    "    Example\n",
    "    Input -> Output\n",
    "    'cat', 'hat' -> 1\n",
    "    'ultra', 'train' -> 4\n",
    "    'beehive', '' -> 7\n",
    "    'backpack', 'backpack' -> 0\n",
    "    \"\"\"\n",
    "    return"
   ]
  },
  {
   "cell_type": "markdown",
   "metadata": {
    "id": "k7YPMZIk0dqh"
   },
   "source": [
    "Question 7: Intersection of Circle\n",
    "\n",
    "Determine the point(s) of intersection if they exist between two circles. \n",
    "\n",
    "\n",
    "---\n",
    "Circles (a, b, r)\n",
    "\n",
    "x ** 2 / a + y ** 2 / b = r ** 2\n"
   ]
  },
  {
   "cell_type": "code",
   "execution_count": null,
   "metadata": {
    "id": "HVVum49i0d9P"
   },
   "outputs": [],
   "source": [
    "def circle_intersection_points(c1: Tuple[float, float, float], c2: Tuple[float, float, float]) -> List[Tuple[float, float]]:\n",
    "    \"\"\"\n",
    "    Example\n",
    "    Input -> Output\n",
    "    (0, 0, 5), (0, 0, 1) -> []\n",
    "    (10, 10, 1), (0, 0, 1) -> []\n",
    "    (0, 0, 1) -> (2, 0, 1) -> [(1, 0)]\n",
    "    \"\"\"\n",
    "    return"
   ]
  },
  {
   "cell_type": "markdown",
   "metadata": {
    "id": "t6ocb0RQzwmK"
   },
   "source": [
    "Question 8: Knights Path\n",
    "\n",
    "Detrmine a path that the knight must move to touch all of the sqaures on the chess board starting from a given sqaure."
   ]
  },
  {
   "cell_type": "code",
   "execution_count": null,
   "metadata": {
    "colab": {
     "base_uri": "https://localhost:8080/",
     "height": 275
    },
    "id": "7d7aM6hXzzYp",
    "outputId": "544adf3c-cb18-41d2-8680-5fed4e11b5c6"
   },
   "outputs": [
    {
     "data": {
      "image/png": "[encoded data removed]",
      "text/plain": [
       "<Figure size 288x288 with 1 Axes>"
      ]
     },
     "metadata": {
      "needs_background": "light"
     },
     "output_type": "display_data"
    }
   ],
   "source": [
    "def _draw_path(start: Tuple[int, int], path: List[Tuple[int, int]]) -> None:\n",
    "    board = np.zeros((8, 8))\n",
    "    board[1::2,::2] = 1\n",
    "    board[::2,1::2] = 1\n",
    "    board[start] = 2\n",
    "\n",
    "    plt.matshow(board, cmap = ListedColormap(['k', 'w', 'b']))\n",
    "\n",
    "    x, y = zip(*path)\n",
    "    plt.plot(x, y, c='r')\n",
    "\n",
    "    plt.show()\n",
    "\n",
    "def knights_tour(x: int, y: int) -> List[Tuple[int, int]]:\n",
    "    pass"
   ]
  },
  {
   "cell_type": "markdown",
   "metadata": {
    "id": "HB43j2-FykJZ"
   },
   "source": [
    "Question 9: Cirle Distubtion."
   ]
  },
  {
   "cell_type": "code",
   "execution_count": null,
   "metadata": {
    "id": "TA0RqM-uykX_"
   },
   "outputs": [],
   "source": [
    "def _draw_cirle_distributsion() -> None\n",
    "    samples = [sample_cirle_distributsion() for _ in range(10000)]\n",
    "\n",
    "\n",
    "def sample_cirle_distributsion() -> Tuple[float, float]:\n",
    "    return"
   ]
  },
  {
   "cell_type": "markdown",
   "metadata": {
    "id": "7Vw9XOsK1D2w"
   },
   "source": [
    "Quesstion 10: N Queens\n",
    "\n",
    "Place N queens on an N by N chess board."
   ]
  },
  {
   "cell_type": "code",
   "execution_count": 35,
   "metadata": {
    "id": "TCTPgkenzwRE"
   },
   "outputs": [],
   "source": [
    "def _draw_board(queens: List[List[str]]) -> None:\n",
    "    qarray = np.asarray(queens)\n",
    "    board = np.zeros(qarray.shape)\n",
    "    board[1::2,::2] = 1\n",
    "    board[::2,1::2] = 1\n",
    "\n",
    "    plt.matshow(board, cmap = ListedColormap(['k', 'w']))\n",
    "\n",
    "    qidx = np.where(qarray == 'Q')\n",
    "    plt.scatter(*qidx, c='r', s=300)\n",
    "    plt.show()\n",
    "\n",
    "\n",
    "def n_queens(n: int) -> List[List[str]]:\n",
    "    \"\"\"\n",
    "    Examples\n",
    "    Input -> Ouput\n",
    "    4 -> [[\"\", \"\", \"Q\", \"\"], [\"Q\", \"\", \"\", \"\"], [\"\", \"\", \"\", \"Q\"], [\"\", \"Q\", \"\", \"\"]]\n",
    "    \"\"\"\n",
    "    return"
   ]
  }
 ],
 "metadata": {
  "colab": {
   "name": "Python Quetions.ipynb",
   "provenance": []
  },
  "kernelspec": {
   "display_name": "Python 3",
   "language": "python",
   "name": "python3"
  },
  "language_info": {
   "codemirror_mode": {
    "name": "ipython",
    "version": 3
   },
   "file_extension": ".py",
   "mimetype": "text/x-python",
   "name": "python",
   "nbconvert_exporter": "python",
   "pygments_lexer": "ipython3",
   "version": "3.8.5"
  }
 },
 "nbformat": 4,
 "nbformat_minor": 4
}
